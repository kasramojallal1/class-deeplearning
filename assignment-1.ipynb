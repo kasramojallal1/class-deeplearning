{
 "cells": [
  {
   "cell_type": "code",
   "execution_count": 37,
   "metadata": {},
   "outputs": [
    {
     "name": "stdout",
     "output_type": "stream",
     "text": [
      "[-0.08192438  1.14634711 -0.29175879 ... -1.44823047  1.08804823\n",
      " -3.05490831]\n",
      "(5000,)\n"
     ]
    }
   ],
   "source": [
    "import numpy as np\n",
    "\n",
    "# Create a x vector that has a gaussian(normal) distribution with mean 0 and std 1.\n",
    "x = np.random.normal(0, 1, 5000)\n",
    "print(x)\n",
    "print(x.shape)"
   ]
  },
  {
   "cell_type": "code",
   "execution_count": 38,
   "metadata": {},
   "outputs": [
    {
     "name": "stdout",
     "output_type": "stream",
     "text": [
      "[ 0.48805782 -0.26681142 -0.50254015 ...  0.16459297  0.20759637\n",
      " -0.37482473]\n",
      "(5000,)\n"
     ]
    }
   ],
   "source": [
    "# Create a eps vector that has a gaussian(normal) distribution with mean 0 and std 0.25.\n",
    "eps = np.random.normal(0, 0.25, 5000)\n",
    "\n",
    "print(eps)\n",
    "print(eps.shape)"
   ]
  },
  {
   "cell_type": "code",
   "execution_count": 39,
   "metadata": {},
   "outputs": [
    {
     "name": "stdout",
     "output_type": "stream",
     "text": [
      "[ -0.56649253  -2.86993281  -1.82611657 ...  -6.66550847  -2.229652\n",
      " -30.1201558 ]\n",
      "(5000,)\n"
     ]
    }
   ],
   "source": [
    "y = -1 + 0.5 * x - 2 * x**2 + 0.3 * x**3 + eps\n",
    "\n",
    "print(y)\n",
    "print(y.shape)"
   ]
  },
  {
   "cell_type": "markdown",
   "metadata": {},
   "source": [
    "# Linear Regression"
   ]
  },
  {
   "cell_type": "markdown",
   "metadata": {},
   "source": [
    "### Implementation 1"
   ]
  },
  {
   "cell_type": "code",
   "execution_count": 40,
   "metadata": {},
   "outputs": [
    {
     "data": {
      "text/html": [
       "<style>#sk-container-id-3 {color: black;background-color: white;}#sk-container-id-3 pre{padding: 0;}#sk-container-id-3 div.sk-toggleable {background-color: white;}#sk-container-id-3 label.sk-toggleable__label {cursor: pointer;display: block;width: 100%;margin-bottom: 0;padding: 0.3em;box-sizing: border-box;text-align: center;}#sk-container-id-3 label.sk-toggleable__label-arrow:before {content: \"▸\";float: left;margin-right: 0.25em;color: #696969;}#sk-container-id-3 label.sk-toggleable__label-arrow:hover:before {color: black;}#sk-container-id-3 div.sk-estimator:hover label.sk-toggleable__label-arrow:before {color: black;}#sk-container-id-3 div.sk-toggleable__content {max-height: 0;max-width: 0;overflow: hidden;text-align: left;background-color: #f0f8ff;}#sk-container-id-3 div.sk-toggleable__content pre {margin: 0.2em;color: black;border-radius: 0.25em;background-color: #f0f8ff;}#sk-container-id-3 input.sk-toggleable__control:checked~div.sk-toggleable__content {max-height: 200px;max-width: 100%;overflow: auto;}#sk-container-id-3 input.sk-toggleable__control:checked~label.sk-toggleable__label-arrow:before {content: \"▾\";}#sk-container-id-3 div.sk-estimator input.sk-toggleable__control:checked~label.sk-toggleable__label {background-color: #d4ebff;}#sk-container-id-3 div.sk-label input.sk-toggleable__control:checked~label.sk-toggleable__label {background-color: #d4ebff;}#sk-container-id-3 input.sk-hidden--visually {border: 0;clip: rect(1px 1px 1px 1px);clip: rect(1px, 1px, 1px, 1px);height: 1px;margin: -1px;overflow: hidden;padding: 0;position: absolute;width: 1px;}#sk-container-id-3 div.sk-estimator {font-family: monospace;background-color: #f0f8ff;border: 1px dotted black;border-radius: 0.25em;box-sizing: border-box;margin-bottom: 0.5em;}#sk-container-id-3 div.sk-estimator:hover {background-color: #d4ebff;}#sk-container-id-3 div.sk-parallel-item::after {content: \"\";width: 100%;border-bottom: 1px solid gray;flex-grow: 1;}#sk-container-id-3 div.sk-label:hover label.sk-toggleable__label {background-color: #d4ebff;}#sk-container-id-3 div.sk-serial::before {content: \"\";position: absolute;border-left: 1px solid gray;box-sizing: border-box;top: 0;bottom: 0;left: 50%;z-index: 0;}#sk-container-id-3 div.sk-serial {display: flex;flex-direction: column;align-items: center;background-color: white;padding-right: 0.2em;padding-left: 0.2em;position: relative;}#sk-container-id-3 div.sk-item {position: relative;z-index: 1;}#sk-container-id-3 div.sk-parallel {display: flex;align-items: stretch;justify-content: center;background-color: white;position: relative;}#sk-container-id-3 div.sk-item::before, #sk-container-id-3 div.sk-parallel-item::before {content: \"\";position: absolute;border-left: 1px solid gray;box-sizing: border-box;top: 0;bottom: 0;left: 50%;z-index: -1;}#sk-container-id-3 div.sk-parallel-item {display: flex;flex-direction: column;z-index: 1;position: relative;background-color: white;}#sk-container-id-3 div.sk-parallel-item:first-child::after {align-self: flex-end;width: 50%;}#sk-container-id-3 div.sk-parallel-item:last-child::after {align-self: flex-start;width: 50%;}#sk-container-id-3 div.sk-parallel-item:only-child::after {width: 0;}#sk-container-id-3 div.sk-dashed-wrapped {border: 1px dashed gray;margin: 0 0.4em 0.5em 0.4em;box-sizing: border-box;padding-bottom: 0.4em;background-color: white;}#sk-container-id-3 div.sk-label label {font-family: monospace;font-weight: bold;display: inline-block;line-height: 1.2em;}#sk-container-id-3 div.sk-label-container {text-align: center;}#sk-container-id-3 div.sk-container {/* jupyter's `normalize.less` sets `[hidden] { display: none; }` but bootstrap.min.css set `[hidden] { display: none !important; }` so we also need the `!important` here to be able to override the default hidden behavior on the sphinx rendered scikit-learn.org. See: https://github.com/scikit-learn/scikit-learn/issues/21755 */display: inline-block !important;position: relative;}#sk-container-id-3 div.sk-text-repr-fallback {display: none;}</style><div id=\"sk-container-id-3\" class=\"sk-top-container\"><div class=\"sk-text-repr-fallback\"><pre>LinearRegression()</pre><b>In a Jupyter environment, please rerun this cell to show the HTML representation or trust the notebook. <br />On GitHub, the HTML representation is unable to render, please try loading this page with nbviewer.org.</b></div><div class=\"sk-container\" hidden><div class=\"sk-item\"><div class=\"sk-estimator sk-toggleable\"><input class=\"sk-toggleable__control sk-hidden--visually\" id=\"sk-estimator-id-3\" type=\"checkbox\" checked><label for=\"sk-estimator-id-3\" class=\"sk-toggleable__label sk-toggleable__label-arrow\">LinearRegression</label><div class=\"sk-toggleable__content\"><pre>LinearRegression()</pre></div></div></div></div></div>"
      ],
      "text/plain": [
       "LinearRegression()"
      ]
     },
     "execution_count": 40,
     "metadata": {},
     "output_type": "execute_result"
    }
   ],
   "source": [
    "from sklearn.linear_model import LinearRegression\n",
    "\n",
    "# implement the linear regression model using the sklearn's default linear regression class\n",
    "model = LinearRegression()\n",
    "model"
   ]
  },
  {
   "cell_type": "code",
   "execution_count": 41,
   "metadata": {},
   "outputs": [],
   "source": [
    "from sklearn.model_selection import cross_val_score\n",
    "\n",
    "# we can use cross_val_score of sklearn to implement the 10-fold cross-validation\n",
    "# also we have to give the mean squared error to it, if we want the scoring result to be MSE (the default is accuracy)\n",
    "# we use negative squared error because it wants to maximize the function by default\n",
    "# the x is reshaped because it is the input and it has to be a matrix\n",
    "scores = cross_val_score(model, x.reshape(-1, 1), y, cv=10, scoring='neg_mean_squared_error')"
   ]
  },
  {
   "cell_type": "code",
   "execution_count": 42,
   "metadata": {},
   "outputs": [
    {
     "data": {
      "text/plain": [
       "array([ 7.93456175,  6.44294515,  8.30492329, 13.57021727,  7.22516571,\n",
       "        9.44092986,  8.52846606,  9.39598351,  7.57123573, 11.1110155 ])"
      ]
     },
     "execution_count": 42,
     "metadata": {},
     "output_type": "execute_result"
    }
   ],
   "source": [
    "# the real values of errors are positive numbers so we multiply them by -1\n",
    "scores = -1 * scores\n",
    "scores"
   ]
  },
  {
   "cell_type": "code",
   "execution_count": 43,
   "metadata": {},
   "outputs": [
    {
     "data": {
      "text/plain": [
       "8.952544382071316"
      ]
     },
     "execution_count": 43,
     "metadata": {},
     "output_type": "execute_result"
    }
   ],
   "source": [
    "# to get the value of the error from the cross validation, we should get the mean of the results\n",
    "scores.mean()"
   ]
  },
  {
   "cell_type": "markdown",
   "metadata": {},
   "source": [
    "### Implementation 2"
   ]
  },
  {
   "cell_type": "code",
   "execution_count": 44,
   "metadata": {},
   "outputs": [],
   "source": [
    "from sklearn.model_selection import KFold\n",
    "\n",
    "model2 = LinearRegression()\n",
    "mse_scores = []\n",
    "\n",
    "# we can use the sklearn's KFold to get the exact indexes to use for our for loop\n",
    "kf = KFold(n_splits=10)\n",
    "\n",
    "# X should be a matrix so we will make it like one, instead of being a vector\n",
    "X = x.reshape(-1, 1)\n",
    "\n",
    "for train_index, validation_index in kf.split(X):\n",
    "    X_train, X_validation = X[train_index], X[validation_index]\n",
    "    y_train, y_validation = y[train_index], y[validation_index]\n",
    "    \n",
    "    model2.fit(X_train, y_train)\n",
    "    \n",
    "    y_pred = model2.predict(X_validation)\n",
    "    \n",
    "    mse = np.mean((y_validation - y_pred)**2)\n",
    "    mse_scores.append(mse)\n",
    "    \n",
    "\n",
    "avg_mse = np.mean(mse_scores)\n",
    "    "
   ]
  },
  {
   "cell_type": "code",
   "execution_count": 45,
   "metadata": {},
   "outputs": [
    {
     "data": {
      "text/plain": [
       "[7.934561747768387,\n",
       " 6.442945147947299,\n",
       " 8.304923291645169,\n",
       " 13.570217266462413,\n",
       " 7.2251657052542475,\n",
       " 9.440929860758432,\n",
       " 8.52846605845085,\n",
       " 9.395983508733146,\n",
       " 7.5712357319642845,\n",
       " 11.111015501728946]"
      ]
     },
     "execution_count": 45,
     "metadata": {},
     "output_type": "execute_result"
    }
   ],
   "source": [
    "mse_scores"
   ]
  },
  {
   "cell_type": "code",
   "execution_count": 46,
   "metadata": {},
   "outputs": [
    {
     "data": {
      "text/plain": [
       "8.952544382071316"
      ]
     },
     "execution_count": 46,
     "metadata": {},
     "output_type": "execute_result"
    }
   ],
   "source": [
    "np.mean(mse_scores)"
   ]
  },
  {
   "cell_type": "markdown",
   "metadata": {},
   "source": [
    "using the second implementation we could get the coefficient for the regressor as well"
   ]
  },
  {
   "cell_type": "code",
   "execution_count": 47,
   "metadata": {},
   "outputs": [
    {
     "data": {
      "text/plain": [
       "array([1.39352142])"
      ]
     },
     "execution_count": 47,
     "metadata": {},
     "output_type": "execute_result"
    }
   ],
   "source": [
    "model2.coef_"
   ]
  },
  {
   "cell_type": "markdown",
   "metadata": {},
   "source": [
    "# Polynomial Regression"
   ]
  },
  {
   "cell_type": "markdown",
   "metadata": {},
   "source": [
    "### With cross validation"
   ]
  },
  {
   "cell_type": "code",
   "execution_count": 48,
   "metadata": {},
   "outputs": [],
   "source": [
    "from sklearn.model_selection import train_test_split\n",
    "\n",
    "# we can use the well known sklearn's train_test_split to split the data (random state 42 is also used all the time)\n",
    "X_train, X_test, y_train, y_test = train_test_split(X, y, test_size=0.2, random_state=42)"
   ]
  },
  {
   "cell_type": "code",
   "execution_count": 49,
   "metadata": {},
   "outputs": [
    {
     "data": {
      "text/plain": [
       "((4000, 1), (1000, 1), (4000,), (1000,))"
      ]
     },
     "execution_count": 49,
     "metadata": {},
     "output_type": "execute_result"
    }
   ],
   "source": [
    "# we get the shapes to understand the data better\n",
    "X_train.shape, X_test.shape, y_train.shape, y_test.shape"
   ]
  },
  {
   "cell_type": "code",
   "execution_count": 50,
   "metadata": {},
   "outputs": [
    {
     "name": "stdout",
     "output_type": "stream",
     "text": [
      "Best degree: 3\n"
     ]
    }
   ],
   "source": [
    "from sklearn.preprocessing import PolynomialFeatures\n",
    "\n",
    "best_score = float('inf')\n",
    "best_degree = 0\n",
    "best_model = None\n",
    "\n",
    "# we add different degree of the x to the data as features to help the same linear regression model do the polynomial work\n",
    "# in this for loop, we add different degrees to see which one will give us the beset error rate\n",
    "for degree in range(1, 11):\n",
    "    poly_features = PolynomialFeatures(degree=degree)\n",
    "    X_poly_train = poly_features.fit_transform(X_train)\n",
    "    \n",
    "    model_poly = LinearRegression()\n",
    "    model_poly.fit(X_poly_train, y_train)\n",
    "    \n",
    "    scores = cross_val_score(model_poly, X_poly_train, y_train, cv=10, scoring='neg_mean_squared_error')\n",
    "    score = -scores.mean()\n",
    "    \n",
    "    if score < best_score:\n",
    "        best_score = score\n",
    "        best_degree = degree\n",
    "        best_model = model_poly\n",
    "        \n",
    "print(f'Best degree: {best_degree}')"
   ]
  },
  {
   "cell_type": "code",
   "execution_count": 51,
   "metadata": {},
   "outputs": [
    {
     "name": "stdout",
     "output_type": "stream",
     "text": [
      "Weights: -1.0036897853663835, [ 0.50856931 -2.00537092  0.29766059]\n"
     ]
    }
   ],
   "source": [
    "poly_features = PolynomialFeatures(degree=best_degree)\n",
    "X_poly_train = poly_features.fit_transform(X_train)\n",
    "best_model.fit(X_poly_train, y_train)\n",
    "\n",
    "print(f'Weights: {best_model.intercept_}, {best_model.coef_[1:]}')"
   ]
  },
  {
   "cell_type": "markdown",
   "metadata": {},
   "source": [
    "As we can see, the intercept and the coefficients are the same as the real ones"
   ]
  },
  {
   "cell_type": "markdown",
   "metadata": {},
   "source": [
    "### Without cross validation"
   ]
  },
  {
   "cell_type": "code",
   "execution_count": 52,
   "metadata": {},
   "outputs": [],
   "source": [
    "X_train, X_test, y_train, y_test = train_test_split(X, y, test_size=0.2, random_state=42)"
   ]
  },
  {
   "cell_type": "code",
   "execution_count": 53,
   "metadata": {},
   "outputs": [
    {
     "name": "stdout",
     "output_type": "stream",
     "text": [
      "Best degree: 3\n"
     ]
    }
   ],
   "source": [
    "best_score = float('inf')\n",
    "best_degree = 0\n",
    "best_model = None\n",
    "\n",
    "for degree in range(1, 11):\n",
    "    poly_features = PolynomialFeatures(degree=degree)\n",
    "    X_poly_train = poly_features.fit_transform(X_train)\n",
    "    X_poly_test = poly_features.fit_transform(X_test)\n",
    "    \n",
    "    model_poly = LinearRegression()\n",
    "    model_poly.fit(X_poly_train, y_train)\n",
    "    \n",
    "    y_pred = model_poly.predict(X_poly_test)\n",
    "    \n",
    "    mse2 = np.mean((y_test - y_pred)**2)\n",
    "    \n",
    "    if mse2 < best_score:\n",
    "        best_score = mse2\n",
    "        best_degree = degree\n",
    "        best_model = model_poly\n",
    "        \n",
    "print(f'Best degree: {best_degree}')"
   ]
  },
  {
   "cell_type": "code",
   "execution_count": 54,
   "metadata": {},
   "outputs": [
    {
     "name": "stdout",
     "output_type": "stream",
     "text": [
      "Weights: -1.0036897853663835, [ 0.50856931 -2.00537092  0.29766059]\n"
     ]
    }
   ],
   "source": [
    "poly_features = PolynomialFeatures(degree=best_degree)\n",
    "X_poly_train = poly_features.fit_transform(X_train)\n",
    "best_model.fit(X_poly_train, y_train)\n",
    "\n",
    "print(f'Weights: {best_model.intercept_}, {best_model.coef_[1:]}')"
   ]
  },
  {
   "cell_type": "markdown",
   "metadata": {},
   "source": [
    "We see the same results for both with and without cross validation. It is because cross validation only gives us a more accurate number for the accuracy or the error that we are trying to calculate. It helps us get better values even if some parts of the data has outliers."
   ]
  },
  {
   "cell_type": "markdown",
   "metadata": {},
   "source": [
    "## References\n",
    "we used links bellow to help us implement the code"
   ]
  },
  {
   "cell_type": "code",
   "execution_count": null,
   "metadata": {},
   "outputs": [],
   "source": [
    "https://data36.com/polynomial-regression-python-scikit-learn/\n",
    "https://scikit-learn.org/stable/modules/generated/sklearn.preprocessing.PolynomialFeatures.html\n",
    "https://scikit-learn.org/stable/modules/generated/sklearn.model_selection.KFold.html\n"
   ]
  }
 ],
 "metadata": {
  "kernelspec": {
   "display_name": "Python 3 (ipykernel)",
   "language": "python",
   "name": "python3"
  },
  "language_info": {
   "codemirror_mode": {
    "name": "ipython",
    "version": 3
   },
   "file_extension": ".py",
   "mimetype": "text/x-python",
   "name": "python",
   "nbconvert_exporter": "python",
   "pygments_lexer": "ipython3",
   "version": "3.9.13"
  }
 },
 "nbformat": 4,
 "nbformat_minor": 2
}
