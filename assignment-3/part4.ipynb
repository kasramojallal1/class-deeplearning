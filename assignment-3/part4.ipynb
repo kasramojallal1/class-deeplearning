{
  "nbformat": 4,
  "nbformat_minor": 0,
  "metadata": {
    "colab": {
      "provenance": [],
      "gpuType": "T4"
    },
    "kernelspec": {
      "name": "python3",
      "display_name": "Python 3"
    },
    "language_info": {
      "name": "python"
    },
    "accelerator": "GPU"
  },
  "cells": [
    {
      "cell_type": "code",
      "execution_count": 1,
      "metadata": {
        "id": "oB90NI7hqsIc"
      },
      "outputs": [],
      "source": [
        "#Importing the dataset and libraries\n",
        "import tensorflow as tf\n",
        "from tensorflow.keras.datasets import mnist\n",
        "from tensorflow.keras.models import Sequential\n",
        "from tensorflow.keras.layers import Dense\n",
        "from tensorflow.keras.layers import Dropout\n",
        "import plotly.graph_objects as go\n",
        "from tensorflow.keras import regularizers\n",
        "from tensorflow.keras.regularizers import l2\n",
        "from tensorflow.keras.callbacks import EarlyStopping\n"
      ]
    },
    {
      "cell_type": "code",
      "source": [
        "#Checking for GPU availability\n",
        "\n",
        "if tf.test.gpu_device_name():\n",
        "    print('GPU device found: {}'.format(tf.test.gpu_device_name()))\n",
        "    device = '/device:GPU:0'\n",
        "else:\n",
        "    print('No GPU device found. Using CPU.')\n",
        "    device = '/device:CPU:0'"
      ],
      "metadata": {
        "colab": {
          "base_uri": "https://localhost:8080/"
        },
        "id": "cBeONn5ErNRC",
        "outputId": "624dc228-c2f9-4847-b7bf-4444af6849d6"
      },
      "execution_count": 2,
      "outputs": [
        {
          "output_type": "stream",
          "name": "stdout",
          "text": [
            "GPU device found: /device:GPU:0\n"
          ]
        }
      ]
    },
    {
      "cell_type": "code",
      "source": [
        "(x_train, y_train),(x_test, y_test) = mnist.load_data() #Splitting data into test and train  \n",
        "\n",
        "x_train = x_train.reshape(-1, 784) / 255.0              #Flattening the (28X28) data to (784x1)\n",
        "x_test = x_test.reshape(-1, 784) / 255.0                #and normalizing the greyscale intensities\n",
        "\n",
        "\n",
        "x_validation, x_train = x_train[:5000], x_train[5000:]  #5000 data points for validation\n",
        "y_validation, y_train = y_train[:5000], y_train[5000:]\n",
        "\n",
        "y_train = tf.keras.utils.to_categorical(y_train)\n",
        "y_validation = tf.keras.utils.to_categorical(y_validation)\n",
        "y_test = tf.keras.utils.to_categorical(y_test)"
      ],
      "metadata": {
        "id": "nH0nCVBrrT12",
        "colab": {
          "base_uri": "https://localhost:8080/"
        },
        "outputId": "010577fd-d23e-4ff9-b506-993cf260712b"
      },
      "execution_count": 3,
      "outputs": [
        {
          "output_type": "stream",
          "name": "stdout",
          "text": [
            "Downloading data from https://storage.googleapis.com/tensorflow/tf-keras-datasets/mnist.npz\n",
            "11490434/11490434 [==============================] - 1s 0us/step\n"
          ]
        }
      ]
    },
    {
      "cell_type": "code",
      "source": [
        "x_train.shape, x_validation.shape, x_test.shape, y_train.shape, y_validation.shape, y_test.shape"
      ],
      "metadata": {
        "colab": {
          "base_uri": "https://localhost:8080/"
        },
        "id": "lwldw34SrXjJ",
        "outputId": "c0fad558-deff-4f91-ec84-715823181c6d"
      },
      "execution_count": 4,
      "outputs": [
        {
          "output_type": "execute_result",
          "data": {
            "text/plain": [
              "((55000, 784), (5000, 784), (10000, 784), (55000, 10), (5000, 10), (10000, 10))"
            ]
          },
          "metadata": {},
          "execution_count": 4
        }
      ]
    },
    {
      "cell_type": "code",
      "source": [
        "#Neural Network with 3 layers, relu as activation for hidden layers\n",
        "#with softmax as activation for the output layer. Regularizer used: l2 and C: 0.001\n",
        "#dropout set to 50%\n",
        "model = Sequential()\n",
        "model.add(Dense(500, activation='relu', kernel_regularizer=l2(0.001), input_shape=(784,)))\n",
        "model.add(Dropout(0.5))\n",
        "model.add(Dense(500, activation='relu', kernel_regularizer=l2(0.001)))\n",
        "model.add(Dropout(0.5))\n",
        "model.add(Dense(10, activation='softmax'))"
      ],
      "metadata": {
        "id": "Qz303KHPrZeH"
      },
      "execution_count": 5,
      "outputs": []
    },
    {
      "cell_type": "code",
      "source": [
        "#Compiling the model with Adam Optimizer with categorical cross entropy as the loss function\n",
        "model.compile(optimizer='adam', loss='categorical_crossentropy', metrics=['accuracy'])"
      ],
      "metadata": {
        "id": "sB3VYNbPr0Dc"
      },
      "execution_count": 6,
      "outputs": []
    },
    {
      "cell_type": "code",
      "source": [
        "#Setting batch size = 128 and epochs to 250\n",
        "batch_size = 128\n",
        "epochs = 250"
      ],
      "metadata": {
        "id": "SoFQy6Fmr2za"
      },
      "execution_count": 7,
      "outputs": []
    },
    {
      "cell_type": "code",
      "source": [
        "with tf.device(device):\n",
        "    \n",
        "    loss_values = []\n",
        "    error_values = []\n",
        "\n",
        "    #each iteration of epochs\n",
        "    for epoch in range(epochs):\n",
        "        \n",
        "        #each iteration of batch\n",
        "        for batch_start in range(0, len(x_train), batch_size):\n",
        "            batch_end = batch_start + batch_size\n",
        "            x_batch = x_train[batch_start:batch_end]\n",
        "            y_batch = y_train[batch_start:batch_end]\n",
        "\n",
        "            model.train_on_batch(x_batch, y_batch)\n",
        "\n",
        "        #calculating the loss and accuracy\n",
        "        loss, accuracy = model.evaluate(x_validation, y_validation, batch_size=batch_size, verbose=0)\n",
        "\n",
        "        #calculating the error\n",
        "        error = 1 - accuracy\n",
        "        loss_values.append(loss)\n",
        "        error_values.append(error)\n",
        "        \n",
        "        print(f\"Epoch {epoch+1}/{epochs} - Loss: {loss:.4f} - Error: {error:.4f}\")"
      ],
      "metadata": {
        "id": "QXAb97bSr4jV",
        "colab": {
          "base_uri": "https://localhost:8080/"
        },
        "outputId": "15ed56fa-716f-4076-bc76-1483607a9e8c"
      },
      "execution_count": 8,
      "outputs": [
        {
          "output_type": "stream",
          "name": "stdout",
          "text": [
            "Epoch 1/250 - Loss: 0.5056 - Error: 0.0458\n",
            "Epoch 2/250 - Loss: 0.3687 - Error: 0.0422\n",
            "Epoch 3/250 - Loss: 0.3023 - Error: 0.0350\n",
            "Epoch 4/250 - Loss: 0.3062 - Error: 0.0398\n",
            "Epoch 5/250 - Loss: 0.2927 - Error: 0.0354\n",
            "Epoch 6/250 - Loss: 0.2793 - Error: 0.0332\n",
            "Epoch 7/250 - Loss: 0.2734 - Error: 0.0282\n",
            "Epoch 8/250 - Loss: 0.2783 - Error: 0.0328\n",
            "Epoch 9/250 - Loss: 0.2771 - Error: 0.0306\n",
            "Epoch 10/250 - Loss: 0.2796 - Error: 0.0346\n",
            "Epoch 11/250 - Loss: 0.2904 - Error: 0.0354\n",
            "Epoch 12/250 - Loss: 0.2737 - Error: 0.0290\n",
            "Epoch 13/250 - Loss: 0.2623 - Error: 0.0260\n",
            "Epoch 14/250 - Loss: 0.2622 - Error: 0.0300\n",
            "Epoch 15/250 - Loss: 0.2638 - Error: 0.0294\n",
            "Epoch 16/250 - Loss: 0.2597 - Error: 0.0292\n",
            "Epoch 17/250 - Loss: 0.2606 - Error: 0.0280\n",
            "Epoch 18/250 - Loss: 0.2636 - Error: 0.0338\n",
            "Epoch 19/250 - Loss: 0.2523 - Error: 0.0266\n",
            "Epoch 20/250 - Loss: 0.2710 - Error: 0.0336\n",
            "Epoch 21/250 - Loss: 0.2621 - Error: 0.0296\n",
            "Epoch 22/250 - Loss: 0.2656 - Error: 0.0296\n",
            "Epoch 23/250 - Loss: 0.2586 - Error: 0.0286\n",
            "Epoch 24/250 - Loss: 0.2600 - Error: 0.0290\n",
            "Epoch 25/250 - Loss: 0.2465 - Error: 0.0256\n",
            "Epoch 26/250 - Loss: 0.2516 - Error: 0.0278\n",
            "Epoch 27/250 - Loss: 0.2638 - Error: 0.0318\n",
            "Epoch 28/250 - Loss: 0.2576 - Error: 0.0310\n",
            "Epoch 29/250 - Loss: 0.2513 - Error: 0.0274\n",
            "Epoch 30/250 - Loss: 0.2569 - Error: 0.0314\n",
            "Epoch 31/250 - Loss: 0.2623 - Error: 0.0316\n",
            "Epoch 32/250 - Loss: 0.2607 - Error: 0.0314\n",
            "Epoch 33/250 - Loss: 0.2401 - Error: 0.0232\n",
            "Epoch 34/250 - Loss: 0.2524 - Error: 0.0286\n",
            "Epoch 35/250 - Loss: 0.2502 - Error: 0.0292\n",
            "Epoch 36/250 - Loss: 0.2528 - Error: 0.0302\n",
            "Epoch 37/250 - Loss: 0.2473 - Error: 0.0264\n",
            "Epoch 38/250 - Loss: 0.2485 - Error: 0.0288\n",
            "Epoch 39/250 - Loss: 0.2437 - Error: 0.0262\n",
            "Epoch 40/250 - Loss: 0.2442 - Error: 0.0248\n",
            "Epoch 41/250 - Loss: 0.2545 - Error: 0.0290\n",
            "Epoch 42/250 - Loss: 0.2495 - Error: 0.0276\n",
            "Epoch 43/250 - Loss: 0.2477 - Error: 0.0266\n",
            "Epoch 44/250 - Loss: 0.2456 - Error: 0.0262\n",
            "Epoch 45/250 - Loss: 0.2483 - Error: 0.0270\n",
            "Epoch 46/250 - Loss: 0.2495 - Error: 0.0270\n",
            "Epoch 47/250 - Loss: 0.2420 - Error: 0.0256\n",
            "Epoch 48/250 - Loss: 0.2443 - Error: 0.0268\n",
            "Epoch 49/250 - Loss: 0.2400 - Error: 0.0244\n",
            "Epoch 50/250 - Loss: 0.2555 - Error: 0.0302\n",
            "Epoch 51/250 - Loss: 0.2540 - Error: 0.0276\n",
            "Epoch 52/250 - Loss: 0.2526 - Error: 0.0302\n",
            "Epoch 53/250 - Loss: 0.2441 - Error: 0.0272\n",
            "Epoch 54/250 - Loss: 0.2501 - Error: 0.0288\n",
            "Epoch 55/250 - Loss: 0.2451 - Error: 0.0282\n",
            "Epoch 56/250 - Loss: 0.2626 - Error: 0.0332\n",
            "Epoch 57/250 - Loss: 0.2593 - Error: 0.0296\n",
            "Epoch 58/250 - Loss: 0.2446 - Error: 0.0266\n",
            "Epoch 59/250 - Loss: 0.2515 - Error: 0.0294\n",
            "Epoch 60/250 - Loss: 0.2386 - Error: 0.0268\n",
            "Epoch 61/250 - Loss: 0.2527 - Error: 0.0278\n",
            "Epoch 62/250 - Loss: 0.2424 - Error: 0.0258\n",
            "Epoch 63/250 - Loss: 0.2663 - Error: 0.0330\n",
            "Epoch 64/250 - Loss: 0.2391 - Error: 0.0252\n",
            "Epoch 65/250 - Loss: 0.2437 - Error: 0.0282\n",
            "Epoch 66/250 - Loss: 0.2419 - Error: 0.0238\n",
            "Epoch 67/250 - Loss: 0.2386 - Error: 0.0274\n",
            "Epoch 68/250 - Loss: 0.2444 - Error: 0.0274\n",
            "Epoch 69/250 - Loss: 0.2415 - Error: 0.0282\n",
            "Epoch 70/250 - Loss: 0.2313 - Error: 0.0226\n",
            "Epoch 71/250 - Loss: 0.2434 - Error: 0.0274\n",
            "Epoch 72/250 - Loss: 0.2413 - Error: 0.0264\n",
            "Epoch 73/250 - Loss: 0.2454 - Error: 0.0310\n",
            "Epoch 74/250 - Loss: 0.2424 - Error: 0.0274\n",
            "Epoch 75/250 - Loss: 0.2423 - Error: 0.0286\n",
            "Epoch 76/250 - Loss: 0.2504 - Error: 0.0314\n",
            "Epoch 77/250 - Loss: 0.2416 - Error: 0.0290\n",
            "Epoch 78/250 - Loss: 0.2299 - Error: 0.0238\n",
            "Epoch 79/250 - Loss: 0.2404 - Error: 0.0244\n",
            "Epoch 80/250 - Loss: 0.2454 - Error: 0.0296\n",
            "Epoch 81/250 - Loss: 0.2337 - Error: 0.0266\n",
            "Epoch 82/250 - Loss: 0.2349 - Error: 0.0258\n",
            "Epoch 83/250 - Loss: 0.2430 - Error: 0.0278\n",
            "Epoch 84/250 - Loss: 0.2448 - Error: 0.0298\n",
            "Epoch 85/250 - Loss: 0.2501 - Error: 0.0298\n",
            "Epoch 86/250 - Loss: 0.2345 - Error: 0.0248\n",
            "Epoch 87/250 - Loss: 0.2357 - Error: 0.0270\n",
            "Epoch 88/250 - Loss: 0.2447 - Error: 0.0286\n",
            "Epoch 89/250 - Loss: 0.2382 - Error: 0.0280\n",
            "Epoch 90/250 - Loss: 0.2480 - Error: 0.0306\n",
            "Epoch 91/250 - Loss: 0.2374 - Error: 0.0276\n",
            "Epoch 92/250 - Loss: 0.2324 - Error: 0.0262\n",
            "Epoch 93/250 - Loss: 0.2425 - Error: 0.0266\n",
            "Epoch 94/250 - Loss: 0.2341 - Error: 0.0276\n",
            "Epoch 95/250 - Loss: 0.2347 - Error: 0.0256\n",
            "Epoch 96/250 - Loss: 0.2358 - Error: 0.0262\n",
            "Epoch 97/250 - Loss: 0.2387 - Error: 0.0256\n",
            "Epoch 98/250 - Loss: 0.2443 - Error: 0.0280\n",
            "Epoch 99/250 - Loss: 0.2377 - Error: 0.0276\n",
            "Epoch 100/250 - Loss: 0.2400 - Error: 0.0278\n",
            "Epoch 101/250 - Loss: 0.2320 - Error: 0.0254\n",
            "Epoch 102/250 - Loss: 0.2350 - Error: 0.0270\n",
            "Epoch 103/250 - Loss: 0.2438 - Error: 0.0284\n",
            "Epoch 104/250 - Loss: 0.2356 - Error: 0.0260\n",
            "Epoch 105/250 - Loss: 0.2446 - Error: 0.0296\n",
            "Epoch 106/250 - Loss: 0.2322 - Error: 0.0252\n",
            "Epoch 107/250 - Loss: 0.2293 - Error: 0.0256\n",
            "Epoch 108/250 - Loss: 0.2386 - Error: 0.0280\n",
            "Epoch 109/250 - Loss: 0.2451 - Error: 0.0326\n",
            "Epoch 110/250 - Loss: 0.2336 - Error: 0.0258\n",
            "Epoch 111/250 - Loss: 0.2314 - Error: 0.0256\n",
            "Epoch 112/250 - Loss: 0.2324 - Error: 0.0258\n",
            "Epoch 113/250 - Loss: 0.2347 - Error: 0.0274\n",
            "Epoch 114/250 - Loss: 0.2362 - Error: 0.0300\n",
            "Epoch 115/250 - Loss: 0.2351 - Error: 0.0280\n",
            "Epoch 116/250 - Loss: 0.2347 - Error: 0.0286\n",
            "Epoch 117/250 - Loss: 0.2299 - Error: 0.0244\n",
            "Epoch 118/250 - Loss: 0.2388 - Error: 0.0272\n",
            "Epoch 119/250 - Loss: 0.2366 - Error: 0.0314\n",
            "Epoch 120/250 - Loss: 0.2409 - Error: 0.0296\n",
            "Epoch 121/250 - Loss: 0.2290 - Error: 0.0266\n",
            "Epoch 122/250 - Loss: 0.2312 - Error: 0.0258\n",
            "Epoch 123/250 - Loss: 0.2327 - Error: 0.0284\n",
            "Epoch 124/250 - Loss: 0.2366 - Error: 0.0276\n",
            "Epoch 125/250 - Loss: 0.2360 - Error: 0.0284\n",
            "Epoch 126/250 - Loss: 0.2343 - Error: 0.0258\n",
            "Epoch 127/250 - Loss: 0.2274 - Error: 0.0254\n",
            "Epoch 128/250 - Loss: 0.2365 - Error: 0.0270\n",
            "Epoch 129/250 - Loss: 0.2338 - Error: 0.0280\n",
            "Epoch 130/250 - Loss: 0.2464 - Error: 0.0318\n",
            "Epoch 131/250 - Loss: 0.2377 - Error: 0.0294\n",
            "Epoch 132/250 - Loss: 0.2290 - Error: 0.0280\n",
            "Epoch 133/250 - Loss: 0.2331 - Error: 0.0266\n",
            "Epoch 134/250 - Loss: 0.2253 - Error: 0.0226\n",
            "Epoch 135/250 - Loss: 0.2348 - Error: 0.0276\n",
            "Epoch 136/250 - Loss: 0.2292 - Error: 0.0252\n",
            "Epoch 137/250 - Loss: 0.2315 - Error: 0.0270\n",
            "Epoch 138/250 - Loss: 0.2484 - Error: 0.0340\n",
            "Epoch 139/250 - Loss: 0.2353 - Error: 0.0278\n",
            "Epoch 140/250 - Loss: 0.2320 - Error: 0.0246\n",
            "Epoch 141/250 - Loss: 0.2336 - Error: 0.0272\n",
            "Epoch 142/250 - Loss: 0.2311 - Error: 0.0262\n",
            "Epoch 143/250 - Loss: 0.2316 - Error: 0.0286\n",
            "Epoch 144/250 - Loss: 0.2318 - Error: 0.0264\n",
            "Epoch 145/250 - Loss: 0.2390 - Error: 0.0300\n",
            "Epoch 146/250 - Loss: 0.2402 - Error: 0.0322\n",
            "Epoch 147/250 - Loss: 0.2358 - Error: 0.0278\n",
            "Epoch 148/250 - Loss: 0.2334 - Error: 0.0286\n",
            "Epoch 149/250 - Loss: 0.2247 - Error: 0.0250\n",
            "Epoch 150/250 - Loss: 0.2327 - Error: 0.0288\n",
            "Epoch 151/250 - Loss: 0.2347 - Error: 0.0284\n",
            "Epoch 152/250 - Loss: 0.2341 - Error: 0.0272\n",
            "Epoch 153/250 - Loss: 0.2307 - Error: 0.0264\n",
            "Epoch 154/250 - Loss: 0.2299 - Error: 0.0254\n",
            "Epoch 155/250 - Loss: 0.2247 - Error: 0.0262\n",
            "Epoch 156/250 - Loss: 0.2267 - Error: 0.0248\n",
            "Epoch 157/250 - Loss: 0.2396 - Error: 0.0282\n",
            "Epoch 158/250 - Loss: 0.2286 - Error: 0.0264\n",
            "Epoch 159/250 - Loss: 0.2244 - Error: 0.0248\n",
            "Epoch 160/250 - Loss: 0.2354 - Error: 0.0292\n",
            "Epoch 161/250 - Loss: 0.2261 - Error: 0.0238\n",
            "Epoch 162/250 - Loss: 0.2210 - Error: 0.0236\n",
            "Epoch 163/250 - Loss: 0.2402 - Error: 0.0304\n",
            "Epoch 164/250 - Loss: 0.2264 - Error: 0.0242\n",
            "Epoch 165/250 - Loss: 0.2296 - Error: 0.0278\n",
            "Epoch 166/250 - Loss: 0.2304 - Error: 0.0278\n",
            "Epoch 167/250 - Loss: 0.2265 - Error: 0.0264\n",
            "Epoch 168/250 - Loss: 0.2306 - Error: 0.0248\n",
            "Epoch 169/250 - Loss: 0.2250 - Error: 0.0276\n",
            "Epoch 170/250 - Loss: 0.2258 - Error: 0.0266\n",
            "Epoch 171/250 - Loss: 0.2317 - Error: 0.0274\n",
            "Epoch 172/250 - Loss: 0.2337 - Error: 0.0274\n",
            "Epoch 173/250 - Loss: 0.2343 - Error: 0.0272\n",
            "Epoch 174/250 - Loss: 0.2293 - Error: 0.0264\n",
            "Epoch 175/250 - Loss: 0.2251 - Error: 0.0266\n",
            "Epoch 176/250 - Loss: 0.2332 - Error: 0.0288\n",
            "Epoch 177/250 - Loss: 0.2310 - Error: 0.0270\n",
            "Epoch 178/250 - Loss: 0.2253 - Error: 0.0242\n",
            "Epoch 179/250 - Loss: 0.2374 - Error: 0.0302\n",
            "Epoch 180/250 - Loss: 0.2466 - Error: 0.0328\n",
            "Epoch 181/250 - Loss: 0.2368 - Error: 0.0288\n",
            "Epoch 182/250 - Loss: 0.2256 - Error: 0.0276\n",
            "Epoch 183/250 - Loss: 0.2297 - Error: 0.0258\n",
            "Epoch 184/250 - Loss: 0.2166 - Error: 0.0230\n",
            "Epoch 185/250 - Loss: 0.2286 - Error: 0.0256\n",
            "Epoch 186/250 - Loss: 0.2286 - Error: 0.0270\n",
            "Epoch 187/250 - Loss: 0.2291 - Error: 0.0268\n",
            "Epoch 188/250 - Loss: 0.2323 - Error: 0.0260\n",
            "Epoch 189/250 - Loss: 0.2284 - Error: 0.0270\n",
            "Epoch 190/250 - Loss: 0.2291 - Error: 0.0272\n",
            "Epoch 191/250 - Loss: 0.2235 - Error: 0.0272\n",
            "Epoch 192/250 - Loss: 0.2267 - Error: 0.0264\n",
            "Epoch 193/250 - Loss: 0.2295 - Error: 0.0272\n",
            "Epoch 194/250 - Loss: 0.2326 - Error: 0.0282\n",
            "Epoch 195/250 - Loss: 0.2241 - Error: 0.0230\n",
            "Epoch 196/250 - Loss: 0.2319 - Error: 0.0284\n",
            "Epoch 197/250 - Loss: 0.2276 - Error: 0.0262\n",
            "Epoch 198/250 - Loss: 0.2285 - Error: 0.0254\n",
            "Epoch 199/250 - Loss: 0.2302 - Error: 0.0284\n",
            "Epoch 200/250 - Loss: 0.2327 - Error: 0.0292\n",
            "Epoch 201/250 - Loss: 0.2263 - Error: 0.0270\n",
            "Epoch 202/250 - Loss: 0.2233 - Error: 0.0252\n",
            "Epoch 203/250 - Loss: 0.2236 - Error: 0.0266\n",
            "Epoch 204/250 - Loss: 0.2243 - Error: 0.0256\n",
            "Epoch 205/250 - Loss: 0.2240 - Error: 0.0246\n",
            "Epoch 206/250 - Loss: 0.2318 - Error: 0.0272\n",
            "Epoch 207/250 - Loss: 0.2238 - Error: 0.0250\n",
            "Epoch 208/250 - Loss: 0.2283 - Error: 0.0276\n",
            "Epoch 209/250 - Loss: 0.2273 - Error: 0.0262\n",
            "Epoch 210/250 - Loss: 0.2303 - Error: 0.0282\n",
            "Epoch 211/250 - Loss: 0.2250 - Error: 0.0278\n",
            "Epoch 212/250 - Loss: 0.2268 - Error: 0.0248\n",
            "Epoch 213/250 - Loss: 0.2209 - Error: 0.0254\n",
            "Epoch 214/250 - Loss: 0.2319 - Error: 0.0296\n",
            "Epoch 215/250 - Loss: 0.2352 - Error: 0.0296\n",
            "Epoch 216/250 - Loss: 0.2277 - Error: 0.0266\n",
            "Epoch 217/250 - Loss: 0.2314 - Error: 0.0278\n",
            "Epoch 218/250 - Loss: 0.2363 - Error: 0.0308\n",
            "Epoch 219/250 - Loss: 0.2251 - Error: 0.0256\n",
            "Epoch 220/250 - Loss: 0.2340 - Error: 0.0290\n",
            "Epoch 221/250 - Loss: 0.2352 - Error: 0.0292\n",
            "Epoch 222/250 - Loss: 0.2246 - Error: 0.0256\n",
            "Epoch 223/250 - Loss: 0.2200 - Error: 0.0230\n",
            "Epoch 224/250 - Loss: 0.2373 - Error: 0.0284\n",
            "Epoch 225/250 - Loss: 0.2284 - Error: 0.0260\n",
            "Epoch 226/250 - Loss: 0.2320 - Error: 0.0274\n",
            "Epoch 227/250 - Loss: 0.2303 - Error: 0.0272\n",
            "Epoch 228/250 - Loss: 0.2241 - Error: 0.0278\n",
            "Epoch 229/250 - Loss: 0.2249 - Error: 0.0260\n",
            "Epoch 230/250 - Loss: 0.2340 - Error: 0.0272\n",
            "Epoch 231/250 - Loss: 0.2440 - Error: 0.0310\n",
            "Epoch 232/250 - Loss: 0.2253 - Error: 0.0258\n",
            "Epoch 233/250 - Loss: 0.2223 - Error: 0.0244\n",
            "Epoch 234/250 - Loss: 0.2268 - Error: 0.0258\n",
            "Epoch 235/250 - Loss: 0.2366 - Error: 0.0290\n",
            "Epoch 236/250 - Loss: 0.2270 - Error: 0.0242\n",
            "Epoch 237/250 - Loss: 0.2251 - Error: 0.0256\n",
            "Epoch 238/250 - Loss: 0.2343 - Error: 0.0276\n",
            "Epoch 239/250 - Loss: 0.2282 - Error: 0.0254\n",
            "Epoch 240/250 - Loss: 0.2236 - Error: 0.0246\n",
            "Epoch 241/250 - Loss: 0.2252 - Error: 0.0248\n",
            "Epoch 242/250 - Loss: 0.2262 - Error: 0.0274\n",
            "Epoch 243/250 - Loss: 0.2229 - Error: 0.0260\n",
            "Epoch 244/250 - Loss: 0.2261 - Error: 0.0252\n",
            "Epoch 245/250 - Loss: 0.2246 - Error: 0.0256\n",
            "Epoch 246/250 - Loss: 0.2263 - Error: 0.0276\n",
            "Epoch 247/250 - Loss: 0.2292 - Error: 0.0254\n",
            "Epoch 248/250 - Loss: 0.2265 - Error: 0.0256\n",
            "Epoch 249/250 - Loss: 0.2234 - Error: 0.0244\n",
            "Epoch 250/250 - Loss: 0.2366 - Error: 0.0294\n"
          ]
        }
      ]
    },
    {
      "cell_type": "code",
      "source": [
        "\n",
        "with tf.device(device):\n",
        "    #Early Stopping\n",
        "    early_stopping = EarlyStopping(monitor='val_loss', patience=10, verbose=1, restore_best_weights=True)\n",
        "\n",
        "    history = model.fit(\n",
        "        x_train,\n",
        "        y_train,\n",
        "        batch_size=batch_size,\n",
        "        epochs=epochs,\n",
        "        validation_data=(x_test, y_test),\n",
        "        callbacks=[early_stopping]\n",
        "    )"
      ],
      "metadata": {
        "colab": {
          "base_uri": "https://localhost:8080/"
        },
        "id": "rvAHNTBBuDUS",
        "outputId": "f5db8061-2e20-4f2b-b27d-0d16352ce02b"
      },
      "execution_count": 9,
      "outputs": [
        {
          "output_type": "stream",
          "name": "stdout",
          "text": [
            "Epoch 1/250\n",
            "430/430 [==============================] - 3s 6ms/step - loss: 0.2698 - accuracy: 0.9584 - val_loss: 0.2178 - val_accuracy: 0.9746\n",
            "Epoch 2/250\n",
            "430/430 [==============================] - 2s 5ms/step - loss: 0.2727 - accuracy: 0.9573 - val_loss: 0.2103 - val_accuracy: 0.9764\n",
            "Epoch 3/250\n",
            "430/430 [==============================] - 2s 5ms/step - loss: 0.2757 - accuracy: 0.9566 - val_loss: 0.2153 - val_accuracy: 0.9736\n",
            "Epoch 4/250\n",
            "430/430 [==============================] - 2s 5ms/step - loss: 0.2712 - accuracy: 0.9571 - val_loss: 0.2087 - val_accuracy: 0.9755\n",
            "Epoch 5/250\n",
            "430/430 [==============================] - 2s 5ms/step - loss: 0.2724 - accuracy: 0.9567 - val_loss: 0.2112 - val_accuracy: 0.9754\n",
            "Epoch 6/250\n",
            "430/430 [==============================] - 2s 4ms/step - loss: 0.2747 - accuracy: 0.9568 - val_loss: 0.2205 - val_accuracy: 0.9738\n",
            "Epoch 7/250\n",
            "430/430 [==============================] - 3s 6ms/step - loss: 0.2737 - accuracy: 0.9560 - val_loss: 0.2156 - val_accuracy: 0.9739\n",
            "Epoch 8/250\n",
            "430/430 [==============================] - 2s 5ms/step - loss: 0.2723 - accuracy: 0.9569 - val_loss: 0.2259 - val_accuracy: 0.9717\n",
            "Epoch 9/250\n",
            "430/430 [==============================] - 2s 5ms/step - loss: 0.2722 - accuracy: 0.9568 - val_loss: 0.2183 - val_accuracy: 0.9746\n",
            "Epoch 10/250\n",
            "430/430 [==============================] - 2s 5ms/step - loss: 0.2705 - accuracy: 0.9578 - val_loss: 0.2145 - val_accuracy: 0.9744\n",
            "Epoch 11/250\n",
            "430/430 [==============================] - 2s 5ms/step - loss: 0.2716 - accuracy: 0.9572 - val_loss: 0.2117 - val_accuracy: 0.9756\n",
            "Epoch 12/250\n",
            "430/430 [==============================] - 2s 4ms/step - loss: 0.2718 - accuracy: 0.9572 - val_loss: 0.2137 - val_accuracy: 0.9763\n",
            "Epoch 13/250\n",
            "430/430 [==============================] - 3s 6ms/step - loss: 0.2750 - accuracy: 0.9563 - val_loss: 0.2324 - val_accuracy: 0.9704\n",
            "Epoch 14/250\n",
            "427/430 [============================>.] - ETA: 0s - loss: 0.2734 - accuracy: 0.9561Restoring model weights from the end of the best epoch: 4.\n",
            "430/430 [==============================] - 2s 5ms/step - loss: 0.2733 - accuracy: 0.9560 - val_loss: 0.2232 - val_accuracy: 0.9727\n",
            "Epoch 14: early stopping\n"
          ]
        }
      ]
    },
    {
      "cell_type": "code",
      "source": [
        "#Accessing the different metrics and saving it to plot the graph\n",
        "loss_values = history.history['loss']\n",
        "val_loss_values = history.history['val_loss']\n",
        "acc_values = history.history['accuracy']\n",
        "val_acc_values = history.history['val_accuracy']"
      ],
      "metadata": {
        "id": "ntn1rI1_xG-B"
      },
      "execution_count": 10,
      "outputs": []
    },
    {
      "cell_type": "code",
      "source": [
        "print(val_error_values)"
      ],
      "metadata": {
        "colab": {
          "base_uri": "https://localhost:8080/"
        },
        "id": "MLzavdSk2Hik",
        "outputId": "8d112ada-89ec-4574-d423-d745ac50401f"
      },
      "execution_count": 25,
      "outputs": [
        {
          "output_type": "stream",
          "name": "stdout",
          "text": [
            "[0.025399982929229736, 0.023599982261657715, 0.02640002965927124, 0.024500012397766113, 0.02460002899169922, 0.02619999647140503, 0.026099979877471924, 0.028299987316131592, 0.025399982929229736, 0.025600016117095947, 0.024399995803833008, 0.02369999885559082, 0.029600024223327637, 0.027300000190734863]\n"
          ]
        }
      ]
    },
    {
      "cell_type": "code",
      "source": [
        "epochs_range = range(1, len(loss_values) + 1)\n",
        "\n",
        "# Create the loss plot\n",
        "loss_plot = go.Scatter(x=list(epochs_range), y=loss_values, mode='lines', name='Training Loss')\n",
        "val_loss_plot = go.Scatter(x=list(epochs_range), y=val_loss_values, mode='lines', name='Validation Loss')\n",
        "layout_loss = go.Layout(title='Cross-Entropy Loss', xaxis=dict(title='Epoch'), yaxis=dict(title='Loss'))\n",
        "fig_loss = go.Figure(data=[loss_plot, val_loss_plot], layout=layout_loss)\n",
        "fig_loss.show()\n",
        "\n",
        "#Creating the classification error plot\n",
        "val_error_values = [1 - acc for acc in val_acc_values]\n",
        "err_plot = go.Scatter(x=list(epochs_range), y=error_values, mode='lines', name='Training Error')\n",
        "val_error_plot = go.Scatter(x=list(epochs_range), y=val_error_values, mode='lines', name='Validation Error')\n",
        "layout_acc = go.Layout(title='Error', xaxis=dict(title='Epoch'), yaxis=dict(title='Error'))\n",
        "fig_acc = go.Figure(data=[err_plot, val_error_plot], layout=layout_acc)\n",
        "fig_acc.show()\n",
        "\n",
        "\n",
        "# Create the accuracy plot\n",
        "acc_plot = go.Scatter(x=list(epochs_range), y=acc_values, mode='lines', name='Training Accuracy')\n",
        "val_acc_plot = go.Scatter(x=list(epochs_range), y=val_acc_values, mode='lines', name='Validation Accuracy')\n",
        "layout_acc = go.Layout(title='Accuracy', xaxis=dict(title='Epoch'), yaxis=dict(title='Accuracy'))\n",
        "fig_acc = go.Figure(data=[acc_plot, val_acc_plot], layout=layout_acc)\n",
        "fig_acc.show()\n"
      ],
      "metadata": {
        "colab": {
          "base_uri": "https://localhost:8080/",
          "height": 1000
        },
        "id": "BmdNwltPx2od",
        "outputId": "a0f1bbea-b635-4258-cde4-375d5d4baa4a"
      },
      "execution_count": 26,
      "outputs": [
        {
          "output_type": "display_data",
          "data": {
            "text/html": [
              "<html>\n",
              "<head><meta charset=\"utf-8\" /></head>\n",
              "<body>\n",
              "    <div>            <script src=\"https://cdnjs.cloudflare.com/ajax/libs/mathjax/2.7.5/MathJax.js?config=TeX-AMS-MML_SVG\"></script><script type=\"text/javascript\">if (window.MathJax && window.MathJax.Hub && window.MathJax.Hub.Config) {window.MathJax.Hub.Config({SVG: {font: \"STIX-Web\"}});}</script>                <script type=\"text/javascript\">window.PlotlyConfig = {MathJaxConfig: 'local'};</script>\n",
              "        <script src=\"https://cdn.plot.ly/plotly-2.18.2.min.js\"></script>                <div id=\"746b9b9f-f724-4733-871d-0ed9a57356ea\" class=\"plotly-graph-div\" style=\"height:525px; width:100%;\"></div>            <script type=\"text/javascript\">                                    window.PLOTLYENV=window.PLOTLYENV || {};                                    if (document.getElementById(\"746b9b9f-f724-4733-871d-0ed9a57356ea\")) {                    Plotly.newPlot(                        \"746b9b9f-f724-4733-871d-0ed9a57356ea\",                        [{\"mode\":\"lines\",\"name\":\"Training Loss\",\"x\":[1,2,3,4,5,6,7,8,9,10,11,12,13,14],\"y\":[0.2697918713092804,0.27269864082336426,0.2756611108779907,0.2711593210697174,0.2723783850669861,0.27466192841529846,0.27370771765708923,0.2723449468612671,0.27222490310668945,0.27052369713783264,0.271567165851593,0.2718411684036255,0.2749797999858856,0.27333468198776245],\"type\":\"scatter\"},{\"mode\":\"lines\",\"name\":\"Validation Loss\",\"x\":[1,2,3,4,5,6,7,8,9,10,11,12,13,14],\"y\":[0.21778400242328644,0.21033433079719543,0.21525026857852936,0.20873017609119415,0.21122126281261444,0.2204969972372055,0.21564167737960815,0.22588381171226501,0.21831104159355164,0.214528888463974,0.21168293058872223,0.2137030065059662,0.2323879599571228,0.22320567071437836],\"type\":\"scatter\"}],                        {\"title\":{\"text\":\"Cross-Entropy Loss\"},\"xaxis\":{\"title\":{\"text\":\"Epoch\"}},\"yaxis\":{\"title\":{\"text\":\"Loss\"}},\"template\":{\"data\":{\"histogram2dcontour\":[{\"type\":\"histogram2dcontour\",\"colorbar\":{\"outlinewidth\":0,\"ticks\":\"\"},\"colorscale\":[[0.0,\"#0d0887\"],[0.1111111111111111,\"#46039f\"],[0.2222222222222222,\"#7201a8\"],[0.3333333333333333,\"#9c179e\"],[0.4444444444444444,\"#bd3786\"],[0.5555555555555556,\"#d8576b\"],[0.6666666666666666,\"#ed7953\"],[0.7777777777777778,\"#fb9f3a\"],[0.8888888888888888,\"#fdca26\"],[1.0,\"#f0f921\"]]}],\"choropleth\":[{\"type\":\"choropleth\",\"colorbar\":{\"outlinewidth\":0,\"ticks\":\"\"}}],\"histogram2d\":[{\"type\":\"histogram2d\",\"colorbar\":{\"outlinewidth\":0,\"ticks\":\"\"},\"colorscale\":[[0.0,\"#0d0887\"],[0.1111111111111111,\"#46039f\"],[0.2222222222222222,\"#7201a8\"],[0.3333333333333333,\"#9c179e\"],[0.4444444444444444,\"#bd3786\"],[0.5555555555555556,\"#d8576b\"],[0.6666666666666666,\"#ed7953\"],[0.7777777777777778,\"#fb9f3a\"],[0.8888888888888888,\"#fdca26\"],[1.0,\"#f0f921\"]]}],\"heatmap\":[{\"type\":\"heatmap\",\"colorbar\":{\"outlinewidth\":0,\"ticks\":\"\"},\"colorscale\":[[0.0,\"#0d0887\"],[0.1111111111111111,\"#46039f\"],[0.2222222222222222,\"#7201a8\"],[0.3333333333333333,\"#9c179e\"],[0.4444444444444444,\"#bd3786\"],[0.5555555555555556,\"#d8576b\"],[0.6666666666666666,\"#ed7953\"],[0.7777777777777778,\"#fb9f3a\"],[0.8888888888888888,\"#fdca26\"],[1.0,\"#f0f921\"]]}],\"heatmapgl\":[{\"type\":\"heatmapgl\",\"colorbar\":{\"outlinewidth\":0,\"ticks\":\"\"},\"colorscale\":[[0.0,\"#0d0887\"],[0.1111111111111111,\"#46039f\"],[0.2222222222222222,\"#7201a8\"],[0.3333333333333333,\"#9c179e\"],[0.4444444444444444,\"#bd3786\"],[0.5555555555555556,\"#d8576b\"],[0.6666666666666666,\"#ed7953\"],[0.7777777777777778,\"#fb9f3a\"],[0.8888888888888888,\"#fdca26\"],[1.0,\"#f0f921\"]]}],\"contourcarpet\":[{\"type\":\"contourcarpet\",\"colorbar\":{\"outlinewidth\":0,\"ticks\":\"\"}}],\"contour\":[{\"type\":\"contour\",\"colorbar\":{\"outlinewidth\":0,\"ticks\":\"\"},\"colorscale\":[[0.0,\"#0d0887\"],[0.1111111111111111,\"#46039f\"],[0.2222222222222222,\"#7201a8\"],[0.3333333333333333,\"#9c179e\"],[0.4444444444444444,\"#bd3786\"],[0.5555555555555556,\"#d8576b\"],[0.6666666666666666,\"#ed7953\"],[0.7777777777777778,\"#fb9f3a\"],[0.8888888888888888,\"#fdca26\"],[1.0,\"#f0f921\"]]}],\"surface\":[{\"type\":\"surface\",\"colorbar\":{\"outlinewidth\":0,\"ticks\":\"\"},\"colorscale\":[[0.0,\"#0d0887\"],[0.1111111111111111,\"#46039f\"],[0.2222222222222222,\"#7201a8\"],[0.3333333333333333,\"#9c179e\"],[0.4444444444444444,\"#bd3786\"],[0.5555555555555556,\"#d8576b\"],[0.6666666666666666,\"#ed7953\"],[0.7777777777777778,\"#fb9f3a\"],[0.8888888888888888,\"#fdca26\"],[1.0,\"#f0f921\"]]}],\"mesh3d\":[{\"type\":\"mesh3d\",\"colorbar\":{\"outlinewidth\":0,\"ticks\":\"\"}}],\"scatter\":[{\"fillpattern\":{\"fillmode\":\"overlay\",\"size\":10,\"solidity\":0.2},\"type\":\"scatter\"}],\"parcoords\":[{\"type\":\"parcoords\",\"line\":{\"colorbar\":{\"outlinewidth\":0,\"ticks\":\"\"}}}],\"scatterpolargl\":[{\"type\":\"scatterpolargl\",\"marker\":{\"colorbar\":{\"outlinewidth\":0,\"ticks\":\"\"}}}],\"bar\":[{\"error_x\":{\"color\":\"#2a3f5f\"},\"error_y\":{\"color\":\"#2a3f5f\"},\"marker\":{\"line\":{\"color\":\"#E5ECF6\",\"width\":0.5},\"pattern\":{\"fillmode\":\"overlay\",\"size\":10,\"solidity\":0.2}},\"type\":\"bar\"}],\"scattergeo\":[{\"type\":\"scattergeo\",\"marker\":{\"colorbar\":{\"outlinewidth\":0,\"ticks\":\"\"}}}],\"scatterpolar\":[{\"type\":\"scatterpolar\",\"marker\":{\"colorbar\":{\"outlinewidth\":0,\"ticks\":\"\"}}}],\"histogram\":[{\"marker\":{\"pattern\":{\"fillmode\":\"overlay\",\"size\":10,\"solidity\":0.2}},\"type\":\"histogram\"}],\"scattergl\":[{\"type\":\"scattergl\",\"marker\":{\"colorbar\":{\"outlinewidth\":0,\"ticks\":\"\"}}}],\"scatter3d\":[{\"type\":\"scatter3d\",\"line\":{\"colorbar\":{\"outlinewidth\":0,\"ticks\":\"\"}},\"marker\":{\"colorbar\":{\"outlinewidth\":0,\"ticks\":\"\"}}}],\"scattermapbox\":[{\"type\":\"scattermapbox\",\"marker\":{\"colorbar\":{\"outlinewidth\":0,\"ticks\":\"\"}}}],\"scatterternary\":[{\"type\":\"scatterternary\",\"marker\":{\"colorbar\":{\"outlinewidth\":0,\"ticks\":\"\"}}}],\"scattercarpet\":[{\"type\":\"scattercarpet\",\"marker\":{\"colorbar\":{\"outlinewidth\":0,\"ticks\":\"\"}}}],\"carpet\":[{\"aaxis\":{\"endlinecolor\":\"#2a3f5f\",\"gridcolor\":\"white\",\"linecolor\":\"white\",\"minorgridcolor\":\"white\",\"startlinecolor\":\"#2a3f5f\"},\"baxis\":{\"endlinecolor\":\"#2a3f5f\",\"gridcolor\":\"white\",\"linecolor\":\"white\",\"minorgridcolor\":\"white\",\"startlinecolor\":\"#2a3f5f\"},\"type\":\"carpet\"}],\"table\":[{\"cells\":{\"fill\":{\"color\":\"#EBF0F8\"},\"line\":{\"color\":\"white\"}},\"header\":{\"fill\":{\"color\":\"#C8D4E3\"},\"line\":{\"color\":\"white\"}},\"type\":\"table\"}],\"barpolar\":[{\"marker\":{\"line\":{\"color\":\"#E5ECF6\",\"width\":0.5},\"pattern\":{\"fillmode\":\"overlay\",\"size\":10,\"solidity\":0.2}},\"type\":\"barpolar\"}],\"pie\":[{\"automargin\":true,\"type\":\"pie\"}]},\"layout\":{\"autotypenumbers\":\"strict\",\"colorway\":[\"#636efa\",\"#EF553B\",\"#00cc96\",\"#ab63fa\",\"#FFA15A\",\"#19d3f3\",\"#FF6692\",\"#B6E880\",\"#FF97FF\",\"#FECB52\"],\"font\":{\"color\":\"#2a3f5f\"},\"hovermode\":\"closest\",\"hoverlabel\":{\"align\":\"left\"},\"paper_bgcolor\":\"white\",\"plot_bgcolor\":\"#E5ECF6\",\"polar\":{\"bgcolor\":\"#E5ECF6\",\"angularaxis\":{\"gridcolor\":\"white\",\"linecolor\":\"white\",\"ticks\":\"\"},\"radialaxis\":{\"gridcolor\":\"white\",\"linecolor\":\"white\",\"ticks\":\"\"}},\"ternary\":{\"bgcolor\":\"#E5ECF6\",\"aaxis\":{\"gridcolor\":\"white\",\"linecolor\":\"white\",\"ticks\":\"\"},\"baxis\":{\"gridcolor\":\"white\",\"linecolor\":\"white\",\"ticks\":\"\"},\"caxis\":{\"gridcolor\":\"white\",\"linecolor\":\"white\",\"ticks\":\"\"}},\"coloraxis\":{\"colorbar\":{\"outlinewidth\":0,\"ticks\":\"\"}},\"colorscale\":{\"sequential\":[[0.0,\"#0d0887\"],[0.1111111111111111,\"#46039f\"],[0.2222222222222222,\"#7201a8\"],[0.3333333333333333,\"#9c179e\"],[0.4444444444444444,\"#bd3786\"],[0.5555555555555556,\"#d8576b\"],[0.6666666666666666,\"#ed7953\"],[0.7777777777777778,\"#fb9f3a\"],[0.8888888888888888,\"#fdca26\"],[1.0,\"#f0f921\"]],\"sequentialminus\":[[0.0,\"#0d0887\"],[0.1111111111111111,\"#46039f\"],[0.2222222222222222,\"#7201a8\"],[0.3333333333333333,\"#9c179e\"],[0.4444444444444444,\"#bd3786\"],[0.5555555555555556,\"#d8576b\"],[0.6666666666666666,\"#ed7953\"],[0.7777777777777778,\"#fb9f3a\"],[0.8888888888888888,\"#fdca26\"],[1.0,\"#f0f921\"]],\"diverging\":[[0,\"#8e0152\"],[0.1,\"#c51b7d\"],[0.2,\"#de77ae\"],[0.3,\"#f1b6da\"],[0.4,\"#fde0ef\"],[0.5,\"#f7f7f7\"],[0.6,\"#e6f5d0\"],[0.7,\"#b8e186\"],[0.8,\"#7fbc41\"],[0.9,\"#4d9221\"],[1,\"#276419\"]]},\"xaxis\":{\"gridcolor\":\"white\",\"linecolor\":\"white\",\"ticks\":\"\",\"title\":{\"standoff\":15},\"zerolinecolor\":\"white\",\"automargin\":true,\"zerolinewidth\":2},\"yaxis\":{\"gridcolor\":\"white\",\"linecolor\":\"white\",\"ticks\":\"\",\"title\":{\"standoff\":15},\"zerolinecolor\":\"white\",\"automargin\":true,\"zerolinewidth\":2},\"scene\":{\"xaxis\":{\"backgroundcolor\":\"#E5ECF6\",\"gridcolor\":\"white\",\"linecolor\":\"white\",\"showbackground\":true,\"ticks\":\"\",\"zerolinecolor\":\"white\",\"gridwidth\":2},\"yaxis\":{\"backgroundcolor\":\"#E5ECF6\",\"gridcolor\":\"white\",\"linecolor\":\"white\",\"showbackground\":true,\"ticks\":\"\",\"zerolinecolor\":\"white\",\"gridwidth\":2},\"zaxis\":{\"backgroundcolor\":\"#E5ECF6\",\"gridcolor\":\"white\",\"linecolor\":\"white\",\"showbackground\":true,\"ticks\":\"\",\"zerolinecolor\":\"white\",\"gridwidth\":2}},\"shapedefaults\":{\"line\":{\"color\":\"#2a3f5f\"}},\"annotationdefaults\":{\"arrowcolor\":\"#2a3f5f\",\"arrowhead\":0,\"arrowwidth\":1},\"geo\":{\"bgcolor\":\"white\",\"landcolor\":\"#E5ECF6\",\"subunitcolor\":\"white\",\"showland\":true,\"showlakes\":true,\"lakecolor\":\"white\"},\"title\":{\"x\":0.05},\"mapbox\":{\"style\":\"light\"}}}},                        {\"responsive\": true}                    ).then(function(){\n",
              "                            \n",
              "var gd = document.getElementById('746b9b9f-f724-4733-871d-0ed9a57356ea');\n",
              "var x = new MutationObserver(function (mutations, observer) {{\n",
              "        var display = window.getComputedStyle(gd).display;\n",
              "        if (!display || display === 'none') {{\n",
              "            console.log([gd, 'removed!']);\n",
              "            Plotly.purge(gd);\n",
              "            observer.disconnect();\n",
              "        }}\n",
              "}});\n",
              "\n",
              "// Listen for the removal of the full notebook cells\n",
              "var notebookContainer = gd.closest('#notebook-container');\n",
              "if (notebookContainer) {{\n",
              "    x.observe(notebookContainer, {childList: true});\n",
              "}}\n",
              "\n",
              "// Listen for the clearing of the current output cell\n",
              "var outputEl = gd.closest('.output');\n",
              "if (outputEl) {{\n",
              "    x.observe(outputEl, {childList: true});\n",
              "}}\n",
              "\n",
              "                        })                };                            </script>        </div>\n",
              "</body>\n",
              "</html>"
            ]
          },
          "metadata": {}
        },
        {
          "output_type": "display_data",
          "data": {
            "text/html": [
              "<html>\n",
              "<head><meta charset=\"utf-8\" /></head>\n",
              "<body>\n",
              "    <div>            <script src=\"https://cdnjs.cloudflare.com/ajax/libs/mathjax/2.7.5/MathJax.js?config=TeX-AMS-MML_SVG\"></script><script type=\"text/javascript\">if (window.MathJax && window.MathJax.Hub && window.MathJax.Hub.Config) {window.MathJax.Hub.Config({SVG: {font: \"STIX-Web\"}});}</script>                <script type=\"text/javascript\">window.PlotlyConfig = {MathJaxConfig: 'local'};</script>\n",
              "        <script src=\"https://cdn.plot.ly/plotly-2.18.2.min.js\"></script>                <div id=\"32e612fe-1aa6-4965-ac35-b32cc7ab00fa\" class=\"plotly-graph-div\" style=\"height:525px; width:100%;\"></div>            <script type=\"text/javascript\">                                    window.PLOTLYENV=window.PLOTLYENV || {};                                    if (document.getElementById(\"32e612fe-1aa6-4965-ac35-b32cc7ab00fa\")) {                    Plotly.newPlot(                        \"32e612fe-1aa6-4965-ac35-b32cc7ab00fa\",                        [{\"mode\":\"lines\",\"name\":\"Training Error\",\"x\":[1,2,3,4,5,6,7,8,9,10,11,12,13,14],\"y\":[0.045799970626831055,0.04220002889633179,0.0350000262260437,0.03979998826980591,0.03539997339248657,0.03320002555847168,0.028199970722198486,0.03280001878738403,0.030600011348724365,0.034600019454956055,0.03539997339248657,0.02899998426437378,0.026000022888183594,0.029999971389770508,0.029399991035461426,0.02920001745223999,0.02799999713897705,0.03380000591278076,0.026600003242492676,0.03359997272491455,0.029600024223327637,0.029600024223327637,0.028599977493286133,0.02899998426437378,0.025600016117095947,0.027800023555755615,0.03179997205734253,0.03100001811981201,0.02740001678466797,0.03140002489089966,0.031599998474121094,0.03140002489089966,0.02319997549057007,0.028599977493286133,0.02920001745223999,0.03020000457763672,0.02640002965927124,0.028800010681152344,0.02619999647140503,0.024800002574920654,0.02899998426437378,0.027599990367889404,0.026600003242492676,0.02619999647140503,0.027000010013580322,0.027000010013580322,0.025600016117095947,0.02679997682571411,0.024399995803833008,0.03020000457763672,0.027599990367889404,0.03020000457763672,0.027199983596801758,0.028800010681152344,0.028199970722198486,0.03320002555847168,0.029600024223327637,0.026600003242492676,0.029399991035461426,0.02679997682571411,0.027800023555755615,0.025799989700317383,0.03299999237060547,0.0252000093460083,0.028199970722198486,0.023800015449523926,0.02740001678466797,0.02740001678466797,0.028199970722198486,0.022599995136260986,0.02740001678466797,0.02640002965927124,0.03100001811981201,0.02740001678466797,0.028599977493286133,0.03140002489089966,0.02899998426437378,0.023800015449523926,0.024399995803833008,0.029600024223327637,0.026600003242492676,0.025799989700317383,0.027800023555755615,0.029799997806549072,0.029799997806549072,0.024800002574920654,0.027000010013580322,0.028599977493286133,0.02799999713897705,0.030600011348724365,0.027599990367889404,0.02619999647140503,0.026600003242492676,0.027599990367889404,0.025600016117095947,0.02619999647140503,0.025600016117095947,0.02799999713897705,0.027599990367889404,0.027800023555755615,0.025399982929229736,0.027000010013580322,0.028400003910064697,0.026000022888183594,0.029600024223327637,0.0252000093460083,0.025600016117095947,0.02799999713897705,0.03259998559951782,0.025799989700317383,0.025600016117095947,0.025799989700317383,0.02740001678466797,0.029999971389770508,0.02799999713897705,0.028599977493286133,0.024399995803833008,0.027199983596801758,0.03140002489089966,0.029600024223327637,0.026600003242492676,0.025799989700317383,0.028400003910064697,0.027599990367889404,0.028400003910064697,0.025799989700317383,0.025399982929229736,0.027000010013580322,0.02799999713897705,0.03179997205734253,0.029399991035461426,0.02799999713897705,0.026600003242492676,0.022599995136260986,0.027599990367889404,0.0252000093460083,0.027000010013580322,0.0339999794960022,0.027800023555755615,0.02460002899169922,0.027199983596801758,0.02619999647140503,0.028599977493286133,0.02640002965927124,0.029999971389770508,0.032199978828430176,0.027800023555755615,0.028599977493286133,0.02499997615814209,0.028800010681152344,0.028400003910064697,0.027199983596801758,0.02640002965927124,0.025399982929229736,0.02619999647140503,0.024800002574920654,0.028199970722198486,0.02640002965927124,0.024800002574920654,0.02920001745223999,0.023800015449523926,0.023599982261657715,0.030399978160858154,0.024200022220611572,0.027800023555755615,0.027800023555755615,0.02640002965927124,0.024800002574920654,0.027599990367889404,0.026600003242492676,0.02740001678466797,0.02740001678466797,0.027199983596801758,0.02640002965927124,0.026600003242492676,0.028800010681152344,0.027000010013580322,0.024200022220611572,0.03020000457763672,0.03280001878738403,0.028800010681152344,0.027599990367889404,0.025799989700317383,0.023000001907348633,0.025600016117095947,0.027000010013580322,0.02679997682571411,0.026000022888183594,0.027000010013580322,0.027199983596801758,0.027199983596801758,0.02640002965927124,0.027199983596801758,0.028199970722198486,0.023000001907348633,0.028400003910064697,0.02619999647140503,0.025399982929229736,0.028400003910064697,0.02920001745223999,0.027000010013580322,0.0252000093460083,0.026600003242492676,0.025600016117095947,0.02460002899169922,0.027199983596801758,0.02499997615814209,0.027599990367889404,0.02619999647140503,0.028199970722198486,0.027800023555755615,0.024800002574920654,0.025399982929229736,0.029600024223327637,0.029600024223327637,0.026600003242492676,0.027800023555755615,0.0307999849319458,0.025600016117095947,0.02899998426437378,0.02920001745223999,0.025600016117095947,0.023000001907348633,0.028400003910064697,0.026000022888183594,0.02740001678466797,0.027199983596801758,0.027800023555755615,0.026000022888183594,0.027199983596801758,0.03100001811981201,0.025799989700317383,0.024399995803833008,0.025799989700317383,0.02899998426437378,0.024200022220611572,0.025600016117095947,0.027599990367889404,0.025399982929229736,0.02460002899169922,0.024800002574920654,0.02740001678466797,0.026000022888183594,0.0252000093460083,0.025600016117095947,0.027599990367889404,0.025399982929229736,0.025600016117095947,0.024399995803833008,0.029399991035461426],\"type\":\"scatter\"},{\"mode\":\"lines\",\"name\":\"Validation Error\",\"x\":[1,2,3,4,5,6,7,8,9,10,11,12,13,14],\"y\":[0.025399982929229736,0.023599982261657715,0.02640002965927124,0.024500012397766113,0.02460002899169922,0.02619999647140503,0.026099979877471924,0.028299987316131592,0.025399982929229736,0.025600016117095947,0.024399995803833008,0.02369999885559082,0.029600024223327637,0.027300000190734863],\"type\":\"scatter\"}],                        {\"title\":{\"text\":\"Error\"},\"xaxis\":{\"title\":{\"text\":\"Epoch\"}},\"yaxis\":{\"title\":{\"text\":\"Error\"}},\"template\":{\"data\":{\"histogram2dcontour\":[{\"type\":\"histogram2dcontour\",\"colorbar\":{\"outlinewidth\":0,\"ticks\":\"\"},\"colorscale\":[[0.0,\"#0d0887\"],[0.1111111111111111,\"#46039f\"],[0.2222222222222222,\"#7201a8\"],[0.3333333333333333,\"#9c179e\"],[0.4444444444444444,\"#bd3786\"],[0.5555555555555556,\"#d8576b\"],[0.6666666666666666,\"#ed7953\"],[0.7777777777777778,\"#fb9f3a\"],[0.8888888888888888,\"#fdca26\"],[1.0,\"#f0f921\"]]}],\"choropleth\":[{\"type\":\"choropleth\",\"colorbar\":{\"outlinewidth\":0,\"ticks\":\"\"}}],\"histogram2d\":[{\"type\":\"histogram2d\",\"colorbar\":{\"outlinewidth\":0,\"ticks\":\"\"},\"colorscale\":[[0.0,\"#0d0887\"],[0.1111111111111111,\"#46039f\"],[0.2222222222222222,\"#7201a8\"],[0.3333333333333333,\"#9c179e\"],[0.4444444444444444,\"#bd3786\"],[0.5555555555555556,\"#d8576b\"],[0.6666666666666666,\"#ed7953\"],[0.7777777777777778,\"#fb9f3a\"],[0.8888888888888888,\"#fdca26\"],[1.0,\"#f0f921\"]]}],\"heatmap\":[{\"type\":\"heatmap\",\"colorbar\":{\"outlinewidth\":0,\"ticks\":\"\"},\"colorscale\":[[0.0,\"#0d0887\"],[0.1111111111111111,\"#46039f\"],[0.2222222222222222,\"#7201a8\"],[0.3333333333333333,\"#9c179e\"],[0.4444444444444444,\"#bd3786\"],[0.5555555555555556,\"#d8576b\"],[0.6666666666666666,\"#ed7953\"],[0.7777777777777778,\"#fb9f3a\"],[0.8888888888888888,\"#fdca26\"],[1.0,\"#f0f921\"]]}],\"heatmapgl\":[{\"type\":\"heatmapgl\",\"colorbar\":{\"outlinewidth\":0,\"ticks\":\"\"},\"colorscale\":[[0.0,\"#0d0887\"],[0.1111111111111111,\"#46039f\"],[0.2222222222222222,\"#7201a8\"],[0.3333333333333333,\"#9c179e\"],[0.4444444444444444,\"#bd3786\"],[0.5555555555555556,\"#d8576b\"],[0.6666666666666666,\"#ed7953\"],[0.7777777777777778,\"#fb9f3a\"],[0.8888888888888888,\"#fdca26\"],[1.0,\"#f0f921\"]]}],\"contourcarpet\":[{\"type\":\"contourcarpet\",\"colorbar\":{\"outlinewidth\":0,\"ticks\":\"\"}}],\"contour\":[{\"type\":\"contour\",\"colorbar\":{\"outlinewidth\":0,\"ticks\":\"\"},\"colorscale\":[[0.0,\"#0d0887\"],[0.1111111111111111,\"#46039f\"],[0.2222222222222222,\"#7201a8\"],[0.3333333333333333,\"#9c179e\"],[0.4444444444444444,\"#bd3786\"],[0.5555555555555556,\"#d8576b\"],[0.6666666666666666,\"#ed7953\"],[0.7777777777777778,\"#fb9f3a\"],[0.8888888888888888,\"#fdca26\"],[1.0,\"#f0f921\"]]}],\"surface\":[{\"type\":\"surface\",\"colorbar\":{\"outlinewidth\":0,\"ticks\":\"\"},\"colorscale\":[[0.0,\"#0d0887\"],[0.1111111111111111,\"#46039f\"],[0.2222222222222222,\"#7201a8\"],[0.3333333333333333,\"#9c179e\"],[0.4444444444444444,\"#bd3786\"],[0.5555555555555556,\"#d8576b\"],[0.6666666666666666,\"#ed7953\"],[0.7777777777777778,\"#fb9f3a\"],[0.8888888888888888,\"#fdca26\"],[1.0,\"#f0f921\"]]}],\"mesh3d\":[{\"type\":\"mesh3d\",\"colorbar\":{\"outlinewidth\":0,\"ticks\":\"\"}}],\"scatter\":[{\"fillpattern\":{\"fillmode\":\"overlay\",\"size\":10,\"solidity\":0.2},\"type\":\"scatter\"}],\"parcoords\":[{\"type\":\"parcoords\",\"line\":{\"colorbar\":{\"outlinewidth\":0,\"ticks\":\"\"}}}],\"scatterpolargl\":[{\"type\":\"scatterpolargl\",\"marker\":{\"colorbar\":{\"outlinewidth\":0,\"ticks\":\"\"}}}],\"bar\":[{\"error_x\":{\"color\":\"#2a3f5f\"},\"error_y\":{\"color\":\"#2a3f5f\"},\"marker\":{\"line\":{\"color\":\"#E5ECF6\",\"width\":0.5},\"pattern\":{\"fillmode\":\"overlay\",\"size\":10,\"solidity\":0.2}},\"type\":\"bar\"}],\"scattergeo\":[{\"type\":\"scattergeo\",\"marker\":{\"colorbar\":{\"outlinewidth\":0,\"ticks\":\"\"}}}],\"scatterpolar\":[{\"type\":\"scatterpolar\",\"marker\":{\"colorbar\":{\"outlinewidth\":0,\"ticks\":\"\"}}}],\"histogram\":[{\"marker\":{\"pattern\":{\"fillmode\":\"overlay\",\"size\":10,\"solidity\":0.2}},\"type\":\"histogram\"}],\"scattergl\":[{\"type\":\"scattergl\",\"marker\":{\"colorbar\":{\"outlinewidth\":0,\"ticks\":\"\"}}}],\"scatter3d\":[{\"type\":\"scatter3d\",\"line\":{\"colorbar\":{\"outlinewidth\":0,\"ticks\":\"\"}},\"marker\":{\"colorbar\":{\"outlinewidth\":0,\"ticks\":\"\"}}}],\"scattermapbox\":[{\"type\":\"scattermapbox\",\"marker\":{\"colorbar\":{\"outlinewidth\":0,\"ticks\":\"\"}}}],\"scatterternary\":[{\"type\":\"scatterternary\",\"marker\":{\"colorbar\":{\"outlinewidth\":0,\"ticks\":\"\"}}}],\"scattercarpet\":[{\"type\":\"scattercarpet\",\"marker\":{\"colorbar\":{\"outlinewidth\":0,\"ticks\":\"\"}}}],\"carpet\":[{\"aaxis\":{\"endlinecolor\":\"#2a3f5f\",\"gridcolor\":\"white\",\"linecolor\":\"white\",\"minorgridcolor\":\"white\",\"startlinecolor\":\"#2a3f5f\"},\"baxis\":{\"endlinecolor\":\"#2a3f5f\",\"gridcolor\":\"white\",\"linecolor\":\"white\",\"minorgridcolor\":\"white\",\"startlinecolor\":\"#2a3f5f\"},\"type\":\"carpet\"}],\"table\":[{\"cells\":{\"fill\":{\"color\":\"#EBF0F8\"},\"line\":{\"color\":\"white\"}},\"header\":{\"fill\":{\"color\":\"#C8D4E3\"},\"line\":{\"color\":\"white\"}},\"type\":\"table\"}],\"barpolar\":[{\"marker\":{\"line\":{\"color\":\"#E5ECF6\",\"width\":0.5},\"pattern\":{\"fillmode\":\"overlay\",\"size\":10,\"solidity\":0.2}},\"type\":\"barpolar\"}],\"pie\":[{\"automargin\":true,\"type\":\"pie\"}]},\"layout\":{\"autotypenumbers\":\"strict\",\"colorway\":[\"#636efa\",\"#EF553B\",\"#00cc96\",\"#ab63fa\",\"#FFA15A\",\"#19d3f3\",\"#FF6692\",\"#B6E880\",\"#FF97FF\",\"#FECB52\"],\"font\":{\"color\":\"#2a3f5f\"},\"hovermode\":\"closest\",\"hoverlabel\":{\"align\":\"left\"},\"paper_bgcolor\":\"white\",\"plot_bgcolor\":\"#E5ECF6\",\"polar\":{\"bgcolor\":\"#E5ECF6\",\"angularaxis\":{\"gridcolor\":\"white\",\"linecolor\":\"white\",\"ticks\":\"\"},\"radialaxis\":{\"gridcolor\":\"white\",\"linecolor\":\"white\",\"ticks\":\"\"}},\"ternary\":{\"bgcolor\":\"#E5ECF6\",\"aaxis\":{\"gridcolor\":\"white\",\"linecolor\":\"white\",\"ticks\":\"\"},\"baxis\":{\"gridcolor\":\"white\",\"linecolor\":\"white\",\"ticks\":\"\"},\"caxis\":{\"gridcolor\":\"white\",\"linecolor\":\"white\",\"ticks\":\"\"}},\"coloraxis\":{\"colorbar\":{\"outlinewidth\":0,\"ticks\":\"\"}},\"colorscale\":{\"sequential\":[[0.0,\"#0d0887\"],[0.1111111111111111,\"#46039f\"],[0.2222222222222222,\"#7201a8\"],[0.3333333333333333,\"#9c179e\"],[0.4444444444444444,\"#bd3786\"],[0.5555555555555556,\"#d8576b\"],[0.6666666666666666,\"#ed7953\"],[0.7777777777777778,\"#fb9f3a\"],[0.8888888888888888,\"#fdca26\"],[1.0,\"#f0f921\"]],\"sequentialminus\":[[0.0,\"#0d0887\"],[0.1111111111111111,\"#46039f\"],[0.2222222222222222,\"#7201a8\"],[0.3333333333333333,\"#9c179e\"],[0.4444444444444444,\"#bd3786\"],[0.5555555555555556,\"#d8576b\"],[0.6666666666666666,\"#ed7953\"],[0.7777777777777778,\"#fb9f3a\"],[0.8888888888888888,\"#fdca26\"],[1.0,\"#f0f921\"]],\"diverging\":[[0,\"#8e0152\"],[0.1,\"#c51b7d\"],[0.2,\"#de77ae\"],[0.3,\"#f1b6da\"],[0.4,\"#fde0ef\"],[0.5,\"#f7f7f7\"],[0.6,\"#e6f5d0\"],[0.7,\"#b8e186\"],[0.8,\"#7fbc41\"],[0.9,\"#4d9221\"],[1,\"#276419\"]]},\"xaxis\":{\"gridcolor\":\"white\",\"linecolor\":\"white\",\"ticks\":\"\",\"title\":{\"standoff\":15},\"zerolinecolor\":\"white\",\"automargin\":true,\"zerolinewidth\":2},\"yaxis\":{\"gridcolor\":\"white\",\"linecolor\":\"white\",\"ticks\":\"\",\"title\":{\"standoff\":15},\"zerolinecolor\":\"white\",\"automargin\":true,\"zerolinewidth\":2},\"scene\":{\"xaxis\":{\"backgroundcolor\":\"#E5ECF6\",\"gridcolor\":\"white\",\"linecolor\":\"white\",\"showbackground\":true,\"ticks\":\"\",\"zerolinecolor\":\"white\",\"gridwidth\":2},\"yaxis\":{\"backgroundcolor\":\"#E5ECF6\",\"gridcolor\":\"white\",\"linecolor\":\"white\",\"showbackground\":true,\"ticks\":\"\",\"zerolinecolor\":\"white\",\"gridwidth\":2},\"zaxis\":{\"backgroundcolor\":\"#E5ECF6\",\"gridcolor\":\"white\",\"linecolor\":\"white\",\"showbackground\":true,\"ticks\":\"\",\"zerolinecolor\":\"white\",\"gridwidth\":2}},\"shapedefaults\":{\"line\":{\"color\":\"#2a3f5f\"}},\"annotationdefaults\":{\"arrowcolor\":\"#2a3f5f\",\"arrowhead\":0,\"arrowwidth\":1},\"geo\":{\"bgcolor\":\"white\",\"landcolor\":\"#E5ECF6\",\"subunitcolor\":\"white\",\"showland\":true,\"showlakes\":true,\"lakecolor\":\"white\"},\"title\":{\"x\":0.05},\"mapbox\":{\"style\":\"light\"}}}},                        {\"responsive\": true}                    ).then(function(){\n",
              "                            \n",
              "var gd = document.getElementById('32e612fe-1aa6-4965-ac35-b32cc7ab00fa');\n",
              "var x = new MutationObserver(function (mutations, observer) {{\n",
              "        var display = window.getComputedStyle(gd).display;\n",
              "        if (!display || display === 'none') {{\n",
              "            console.log([gd, 'removed!']);\n",
              "            Plotly.purge(gd);\n",
              "            observer.disconnect();\n",
              "        }}\n",
              "}});\n",
              "\n",
              "// Listen for the removal of the full notebook cells\n",
              "var notebookContainer = gd.closest('#notebook-container');\n",
              "if (notebookContainer) {{\n",
              "    x.observe(notebookContainer, {childList: true});\n",
              "}}\n",
              "\n",
              "// Listen for the clearing of the current output cell\n",
              "var outputEl = gd.closest('.output');\n",
              "if (outputEl) {{\n",
              "    x.observe(outputEl, {childList: true});\n",
              "}}\n",
              "\n",
              "                        })                };                            </script>        </div>\n",
              "</body>\n",
              "</html>"
            ]
          },
          "metadata": {}
        },
        {
          "output_type": "display_data",
          "data": {
            "text/html": [
              "<html>\n",
              "<head><meta charset=\"utf-8\" /></head>\n",
              "<body>\n",
              "    <div>            <script src=\"https://cdnjs.cloudflare.com/ajax/libs/mathjax/2.7.5/MathJax.js?config=TeX-AMS-MML_SVG\"></script><script type=\"text/javascript\">if (window.MathJax && window.MathJax.Hub && window.MathJax.Hub.Config) {window.MathJax.Hub.Config({SVG: {font: \"STIX-Web\"}});}</script>                <script type=\"text/javascript\">window.PlotlyConfig = {MathJaxConfig: 'local'};</script>\n",
              "        <script src=\"https://cdn.plot.ly/plotly-2.18.2.min.js\"></script>                <div id=\"2c5eee10-ffe3-49c2-b703-6f2b58914d76\" class=\"plotly-graph-div\" style=\"height:525px; width:100%;\"></div>            <script type=\"text/javascript\">                                    window.PLOTLYENV=window.PLOTLYENV || {};                                    if (document.getElementById(\"2c5eee10-ffe3-49c2-b703-6f2b58914d76\")) {                    Plotly.newPlot(                        \"2c5eee10-ffe3-49c2-b703-6f2b58914d76\",                        [{\"mode\":\"lines\",\"name\":\"Training Accuracy\",\"x\":[1,2,3,4,5,6,7,8,9,10,11,12,13,14],\"y\":[0.9584363698959351,0.9572727084159851,0.9565636515617371,0.9570727348327637,0.956672728061676,0.9568363428115845,0.9560182094573975,0.956854522228241,0.956781804561615,0.9578182101249695,0.9571818113327026,0.9572363495826721,0.9563272595405579,0.9559999704360962],\"type\":\"scatter\"},{\"mode\":\"lines\",\"name\":\"Validation Accuracy\",\"x\":[1,2,3,4,5,6,7,8,9,10,11,12,13,14],\"y\":[0.9746000170707703,0.9764000177383423,0.9735999703407288,0.9754999876022339,0.9753999710083008,0.973800003528595,0.9739000201225281,0.9717000126838684,0.9746000170707703,0.974399983882904,0.975600004196167,0.9763000011444092,0.9703999757766724,0.9726999998092651],\"type\":\"scatter\"}],                        {\"title\":{\"text\":\"Accuracy\"},\"xaxis\":{\"title\":{\"text\":\"Epoch\"}},\"yaxis\":{\"title\":{\"text\":\"Accuracy\"}},\"template\":{\"data\":{\"histogram2dcontour\":[{\"type\":\"histogram2dcontour\",\"colorbar\":{\"outlinewidth\":0,\"ticks\":\"\"},\"colorscale\":[[0.0,\"#0d0887\"],[0.1111111111111111,\"#46039f\"],[0.2222222222222222,\"#7201a8\"],[0.3333333333333333,\"#9c179e\"],[0.4444444444444444,\"#bd3786\"],[0.5555555555555556,\"#d8576b\"],[0.6666666666666666,\"#ed7953\"],[0.7777777777777778,\"#fb9f3a\"],[0.8888888888888888,\"#fdca26\"],[1.0,\"#f0f921\"]]}],\"choropleth\":[{\"type\":\"choropleth\",\"colorbar\":{\"outlinewidth\":0,\"ticks\":\"\"}}],\"histogram2d\":[{\"type\":\"histogram2d\",\"colorbar\":{\"outlinewidth\":0,\"ticks\":\"\"},\"colorscale\":[[0.0,\"#0d0887\"],[0.1111111111111111,\"#46039f\"],[0.2222222222222222,\"#7201a8\"],[0.3333333333333333,\"#9c179e\"],[0.4444444444444444,\"#bd3786\"],[0.5555555555555556,\"#d8576b\"],[0.6666666666666666,\"#ed7953\"],[0.7777777777777778,\"#fb9f3a\"],[0.8888888888888888,\"#fdca26\"],[1.0,\"#f0f921\"]]}],\"heatmap\":[{\"type\":\"heatmap\",\"colorbar\":{\"outlinewidth\":0,\"ticks\":\"\"},\"colorscale\":[[0.0,\"#0d0887\"],[0.1111111111111111,\"#46039f\"],[0.2222222222222222,\"#7201a8\"],[0.3333333333333333,\"#9c179e\"],[0.4444444444444444,\"#bd3786\"],[0.5555555555555556,\"#d8576b\"],[0.6666666666666666,\"#ed7953\"],[0.7777777777777778,\"#fb9f3a\"],[0.8888888888888888,\"#fdca26\"],[1.0,\"#f0f921\"]]}],\"heatmapgl\":[{\"type\":\"heatmapgl\",\"colorbar\":{\"outlinewidth\":0,\"ticks\":\"\"},\"colorscale\":[[0.0,\"#0d0887\"],[0.1111111111111111,\"#46039f\"],[0.2222222222222222,\"#7201a8\"],[0.3333333333333333,\"#9c179e\"],[0.4444444444444444,\"#bd3786\"],[0.5555555555555556,\"#d8576b\"],[0.6666666666666666,\"#ed7953\"],[0.7777777777777778,\"#fb9f3a\"],[0.8888888888888888,\"#fdca26\"],[1.0,\"#f0f921\"]]}],\"contourcarpet\":[{\"type\":\"contourcarpet\",\"colorbar\":{\"outlinewidth\":0,\"ticks\":\"\"}}],\"contour\":[{\"type\":\"contour\",\"colorbar\":{\"outlinewidth\":0,\"ticks\":\"\"},\"colorscale\":[[0.0,\"#0d0887\"],[0.1111111111111111,\"#46039f\"],[0.2222222222222222,\"#7201a8\"],[0.3333333333333333,\"#9c179e\"],[0.4444444444444444,\"#bd3786\"],[0.5555555555555556,\"#d8576b\"],[0.6666666666666666,\"#ed7953\"],[0.7777777777777778,\"#fb9f3a\"],[0.8888888888888888,\"#fdca26\"],[1.0,\"#f0f921\"]]}],\"surface\":[{\"type\":\"surface\",\"colorbar\":{\"outlinewidth\":0,\"ticks\":\"\"},\"colorscale\":[[0.0,\"#0d0887\"],[0.1111111111111111,\"#46039f\"],[0.2222222222222222,\"#7201a8\"],[0.3333333333333333,\"#9c179e\"],[0.4444444444444444,\"#bd3786\"],[0.5555555555555556,\"#d8576b\"],[0.6666666666666666,\"#ed7953\"],[0.7777777777777778,\"#fb9f3a\"],[0.8888888888888888,\"#fdca26\"],[1.0,\"#f0f921\"]]}],\"mesh3d\":[{\"type\":\"mesh3d\",\"colorbar\":{\"outlinewidth\":0,\"ticks\":\"\"}}],\"scatter\":[{\"fillpattern\":{\"fillmode\":\"overlay\",\"size\":10,\"solidity\":0.2},\"type\":\"scatter\"}],\"parcoords\":[{\"type\":\"parcoords\",\"line\":{\"colorbar\":{\"outlinewidth\":0,\"ticks\":\"\"}}}],\"scatterpolargl\":[{\"type\":\"scatterpolargl\",\"marker\":{\"colorbar\":{\"outlinewidth\":0,\"ticks\":\"\"}}}],\"bar\":[{\"error_x\":{\"color\":\"#2a3f5f\"},\"error_y\":{\"color\":\"#2a3f5f\"},\"marker\":{\"line\":{\"color\":\"#E5ECF6\",\"width\":0.5},\"pattern\":{\"fillmode\":\"overlay\",\"size\":10,\"solidity\":0.2}},\"type\":\"bar\"}],\"scattergeo\":[{\"type\":\"scattergeo\",\"marker\":{\"colorbar\":{\"outlinewidth\":0,\"ticks\":\"\"}}}],\"scatterpolar\":[{\"type\":\"scatterpolar\",\"marker\":{\"colorbar\":{\"outlinewidth\":0,\"ticks\":\"\"}}}],\"histogram\":[{\"marker\":{\"pattern\":{\"fillmode\":\"overlay\",\"size\":10,\"solidity\":0.2}},\"type\":\"histogram\"}],\"scattergl\":[{\"type\":\"scattergl\",\"marker\":{\"colorbar\":{\"outlinewidth\":0,\"ticks\":\"\"}}}],\"scatter3d\":[{\"type\":\"scatter3d\",\"line\":{\"colorbar\":{\"outlinewidth\":0,\"ticks\":\"\"}},\"marker\":{\"colorbar\":{\"outlinewidth\":0,\"ticks\":\"\"}}}],\"scattermapbox\":[{\"type\":\"scattermapbox\",\"marker\":{\"colorbar\":{\"outlinewidth\":0,\"ticks\":\"\"}}}],\"scatterternary\":[{\"type\":\"scatterternary\",\"marker\":{\"colorbar\":{\"outlinewidth\":0,\"ticks\":\"\"}}}],\"scattercarpet\":[{\"type\":\"scattercarpet\",\"marker\":{\"colorbar\":{\"outlinewidth\":0,\"ticks\":\"\"}}}],\"carpet\":[{\"aaxis\":{\"endlinecolor\":\"#2a3f5f\",\"gridcolor\":\"white\",\"linecolor\":\"white\",\"minorgridcolor\":\"white\",\"startlinecolor\":\"#2a3f5f\"},\"baxis\":{\"endlinecolor\":\"#2a3f5f\",\"gridcolor\":\"white\",\"linecolor\":\"white\",\"minorgridcolor\":\"white\",\"startlinecolor\":\"#2a3f5f\"},\"type\":\"carpet\"}],\"table\":[{\"cells\":{\"fill\":{\"color\":\"#EBF0F8\"},\"line\":{\"color\":\"white\"}},\"header\":{\"fill\":{\"color\":\"#C8D4E3\"},\"line\":{\"color\":\"white\"}},\"type\":\"table\"}],\"barpolar\":[{\"marker\":{\"line\":{\"color\":\"#E5ECF6\",\"width\":0.5},\"pattern\":{\"fillmode\":\"overlay\",\"size\":10,\"solidity\":0.2}},\"type\":\"barpolar\"}],\"pie\":[{\"automargin\":true,\"type\":\"pie\"}]},\"layout\":{\"autotypenumbers\":\"strict\",\"colorway\":[\"#636efa\",\"#EF553B\",\"#00cc96\",\"#ab63fa\",\"#FFA15A\",\"#19d3f3\",\"#FF6692\",\"#B6E880\",\"#FF97FF\",\"#FECB52\"],\"font\":{\"color\":\"#2a3f5f\"},\"hovermode\":\"closest\",\"hoverlabel\":{\"align\":\"left\"},\"paper_bgcolor\":\"white\",\"plot_bgcolor\":\"#E5ECF6\",\"polar\":{\"bgcolor\":\"#E5ECF6\",\"angularaxis\":{\"gridcolor\":\"white\",\"linecolor\":\"white\",\"ticks\":\"\"},\"radialaxis\":{\"gridcolor\":\"white\",\"linecolor\":\"white\",\"ticks\":\"\"}},\"ternary\":{\"bgcolor\":\"#E5ECF6\",\"aaxis\":{\"gridcolor\":\"white\",\"linecolor\":\"white\",\"ticks\":\"\"},\"baxis\":{\"gridcolor\":\"white\",\"linecolor\":\"white\",\"ticks\":\"\"},\"caxis\":{\"gridcolor\":\"white\",\"linecolor\":\"white\",\"ticks\":\"\"}},\"coloraxis\":{\"colorbar\":{\"outlinewidth\":0,\"ticks\":\"\"}},\"colorscale\":{\"sequential\":[[0.0,\"#0d0887\"],[0.1111111111111111,\"#46039f\"],[0.2222222222222222,\"#7201a8\"],[0.3333333333333333,\"#9c179e\"],[0.4444444444444444,\"#bd3786\"],[0.5555555555555556,\"#d8576b\"],[0.6666666666666666,\"#ed7953\"],[0.7777777777777778,\"#fb9f3a\"],[0.8888888888888888,\"#fdca26\"],[1.0,\"#f0f921\"]],\"sequentialminus\":[[0.0,\"#0d0887\"],[0.1111111111111111,\"#46039f\"],[0.2222222222222222,\"#7201a8\"],[0.3333333333333333,\"#9c179e\"],[0.4444444444444444,\"#bd3786\"],[0.5555555555555556,\"#d8576b\"],[0.6666666666666666,\"#ed7953\"],[0.7777777777777778,\"#fb9f3a\"],[0.8888888888888888,\"#fdca26\"],[1.0,\"#f0f921\"]],\"diverging\":[[0,\"#8e0152\"],[0.1,\"#c51b7d\"],[0.2,\"#de77ae\"],[0.3,\"#f1b6da\"],[0.4,\"#fde0ef\"],[0.5,\"#f7f7f7\"],[0.6,\"#e6f5d0\"],[0.7,\"#b8e186\"],[0.8,\"#7fbc41\"],[0.9,\"#4d9221\"],[1,\"#276419\"]]},\"xaxis\":{\"gridcolor\":\"white\",\"linecolor\":\"white\",\"ticks\":\"\",\"title\":{\"standoff\":15},\"zerolinecolor\":\"white\",\"automargin\":true,\"zerolinewidth\":2},\"yaxis\":{\"gridcolor\":\"white\",\"linecolor\":\"white\",\"ticks\":\"\",\"title\":{\"standoff\":15},\"zerolinecolor\":\"white\",\"automargin\":true,\"zerolinewidth\":2},\"scene\":{\"xaxis\":{\"backgroundcolor\":\"#E5ECF6\",\"gridcolor\":\"white\",\"linecolor\":\"white\",\"showbackground\":true,\"ticks\":\"\",\"zerolinecolor\":\"white\",\"gridwidth\":2},\"yaxis\":{\"backgroundcolor\":\"#E5ECF6\",\"gridcolor\":\"white\",\"linecolor\":\"white\",\"showbackground\":true,\"ticks\":\"\",\"zerolinecolor\":\"white\",\"gridwidth\":2},\"zaxis\":{\"backgroundcolor\":\"#E5ECF6\",\"gridcolor\":\"white\",\"linecolor\":\"white\",\"showbackground\":true,\"ticks\":\"\",\"zerolinecolor\":\"white\",\"gridwidth\":2}},\"shapedefaults\":{\"line\":{\"color\":\"#2a3f5f\"}},\"annotationdefaults\":{\"arrowcolor\":\"#2a3f5f\",\"arrowhead\":0,\"arrowwidth\":1},\"geo\":{\"bgcolor\":\"white\",\"landcolor\":\"#E5ECF6\",\"subunitcolor\":\"white\",\"showland\":true,\"showlakes\":true,\"lakecolor\":\"white\"},\"title\":{\"x\":0.05},\"mapbox\":{\"style\":\"light\"}}}},                        {\"responsive\": true}                    ).then(function(){\n",
              "                            \n",
              "var gd = document.getElementById('2c5eee10-ffe3-49c2-b703-6f2b58914d76');\n",
              "var x = new MutationObserver(function (mutations, observer) {{\n",
              "        var display = window.getComputedStyle(gd).display;\n",
              "        if (!display || display === 'none') {{\n",
              "            console.log([gd, 'removed!']);\n",
              "            Plotly.purge(gd);\n",
              "            observer.disconnect();\n",
              "        }}\n",
              "}});\n",
              "\n",
              "// Listen for the removal of the full notebook cells\n",
              "var notebookContainer = gd.closest('#notebook-container');\n",
              "if (notebookContainer) {{\n",
              "    x.observe(notebookContainer, {childList: true});\n",
              "}}\n",
              "\n",
              "// Listen for the clearing of the current output cell\n",
              "var outputEl = gd.closest('.output');\n",
              "if (outputEl) {{\n",
              "    x.observe(outputEl, {childList: true});\n",
              "}}\n",
              "\n",
              "                        })                };                            </script>        </div>\n",
              "</body>\n",
              "</html>"
            ]
          },
          "metadata": {}
        }
      ]
    },
    {
      "cell_type": "code",
      "source": [
        "print(model.evaluate(x_test, y_test))         #Evaluating the model's loss and accuracy"
      ],
      "metadata": {
        "id": "S5zicYy2x5CJ",
        "colab": {
          "base_uri": "https://localhost:8080/"
        },
        "outputId": "fc6e0dec-7523-453b-95a5-25c2d4295980"
      },
      "execution_count": 16,
      "outputs": [
        {
          "output_type": "stream",
          "name": "stdout",
          "text": [
            "313/313 [==============================] - 1s 4ms/step - loss: 0.2087 - accuracy: 0.9755\n",
            "[0.20873022079467773, 0.9754999876022339]\n"
          ]
        }
      ]
    }
  ]
}